{
  "cells": [
    {
      "attachments": {},
      "cell_type": "markdown",
      "metadata": {
        "id": "YBz0yuzs44vm"
      },
      "source": [
        "# Proyecto 2 \n",
        "### Curso : Inteligencia Artificial\n",
        "### Profesor : Cristian López Del Alamo\n",
        "\n",
        "#### Nombres y Apellidos de Integrantes:\n",
        "\n",
        "##### Integrante 1: Fabrizio Jesús Vásquez Auqui\n",
        "##### Integrante 2: Ignacio Rubio"
      ]
    },
    {
      "attachments": {},
      "cell_type": "markdown",
      "metadata": {
        "id": "7b8IgqBFEbEa"
      },
      "source": [
        "### Librerías"
      ]
    },
    {
      "cell_type": "code",
      "execution_count": 287,
      "metadata": {
        "id": "lP9h8rSVC7A-"
      },
      "outputs": [],
      "source": [
        "import os\n",
        "import numpy as np\n",
        "import pandas as pd\n",
        "import pywt\n",
        "\n",
        "\n",
        "import matplotlib.pyplot as plt\n",
        "from abc import ABCMeta, abstractmethod\n",
        "from skimage.io import imread, imshow\n",
        "\n",
        "# Utilidades\n",
        "from sklearn.preprocessing import StandardScaler  # to standardize the features\n",
        "from sklearn.preprocessing import MinMaxScaler\n",
        "import seaborn as sns\n",
        "from sklearn.metrics.pairwise import euclidean_distances\n",
        "from matplotlib.colors import ListedColormap\n",
        "from sklearn.metrics import silhouette_score, rand_score, adjusted_mutual_info_score, adjusted_rand_score, homogeneity_score, completeness_score, v_measure_score\n",
        "from sklearn.metrics.cluster import homogeneity_score\n",
        "from scipy.stats import multivariate_normal\n",
        "import glob\n",
        "\n",
        "# Librarías de modelos usados\n",
        "from sklearn.decomposition import PCA\n",
        "from sklearn.cluster import KMeans\n",
        "from sklearn.cluster import DBSCAN\n",
        "from sklearn.mixture import GaussianMixture\n",
        "from sklearn.neighbors import KDTree\n",
        "\n",
        "import random\n"
      ]
    },
    {
      "cell_type": "code",
      "execution_count": 169,
      "metadata": {
        "colab": {
          "base_uri": "https://localhost:8080/"
        },
        "id": "iVzL9iV9E5C5",
        "outputId": "26e31ad4-1c05-4568-aeaa-78fa0f07cb9a"
      },
      "outputs": [],
      "source": [
        "path = \"./data/CK+48/\""
      ]
    },
    {
      "cell_type": "code",
      "execution_count": 170,
      "metadata": {},
      "outputs": [],
      "source": [
        "def printCluster(target, prediction):\n",
        "    cluster_element = {}\n",
        "    for i, element in zip(target, list(prediction)):\n",
        "        if i not in cluster_element:\n",
        "            cluster_element[i] =[element]\n",
        "        else:\n",
        "            if element not in cluster_element[i]:\n",
        "                cluster_element[i].append(element)\n",
        "    print(cluster_element)"
      ]
    },
    {
      "attachments": {},
      "cell_type": "markdown",
      "metadata": {
        "id": "H1IJ1CGMEZ33"
      },
      "source": [
        "#### Base de datos de Emociones\n",
        "\n"
      ]
    },
    {
      "attachments": {},
      "cell_type": "markdown",
      "metadata": {
        "id": "rGT88RrEO-mw"
      },
      "source": [
        "##### Función para obtener los vectores característicos y PCA"
      ]
    },
    {
      "cell_type": "code",
      "execution_count": 330,
      "metadata": {
        "colab": {
          "base_uri": "https://localhost:8080/"
        },
        "id": "qw_soijiR7zr",
        "outputId": "1999451f-b2f5-4ea4-9d7b-d4b09d4990c5"
      },
      "outputs": [
        {
          "data": {
            "text/plain": [
              "36"
            ]
          },
          "execution_count": 330,
          "metadata": {},
          "output_type": "execute_result"
        }
      ],
      "source": [
        "content = os.listdir(path)\n",
        "\n",
        "def feature_vector(picture, cortes):\n",
        "  LL = picture\n",
        "  for i in range(cortes):\n",
        "    LL, (LH, HL, HH) = pywt.dwt2(LL, 'haar')\n",
        "     #LL = LL/255\n",
        "  #return LL.flatten()\n",
        "  return LL.flatten()\n",
        "\n",
        "def transform(img,n_components_=0.9999999):\n",
        "  #scalar = MinMaxScaler()\n",
        "  #img_scaled = scalar.fit_transform(img)\n",
        "  pca_model = PCA(n_components=n_components_)\n",
        "  pca_model.fit(img)\n",
        "  transform_img = pca_model.transform(img)\n",
        "  #projection = img_pca.inverse_transform(tranform_img)\n",
        "  #plt.imshow(projection, cmap='gray')\n",
        "  #print(transform_img.shape)\n",
        "  return transform_img\n",
        "\n",
        "def imagen_feature_vector(image_path):\n",
        "  picture = imread(image_path)\n",
        "  # len of feature vector = dim_1(picture)*dim_2(picture) / 4^cortes\n",
        "  # len_feature_vector = dim_n(picure)/ 4^cortes\n",
        "  # reduction_feature_vector = transform(picture)\n",
        "  img = feature_vector(picture,3)\n",
        "  coefficients_matrix = np.stack(img)\n",
        "  data = coefficients_matrix.reshape(coefficients_matrix.shape[0], -1)\n",
        "\n",
        "  #print(data.shape)\n",
        "\n",
        "  img_pca = transform(data)\n",
        "  #converted_img = img_pca.fit_transform(img)\n",
        "  return img_pca.flatten()\n",
        "\n",
        "  \n",
        "# 48 * 48\n",
        "#len(imread('./data/CK+48/anger/S010_004_00000017.png'))\n",
        "#transform(imread('./data/CK+48/anger/S010_004_00000017.png'))\n",
        "#imagen_feature_vector('./data/CK+48/anger/S010_004_00000017.png')\n",
        "len(imagen_feature_vector('./data/CK+48/anger/S010_004_00000017.png'))\n"
      ]
    },
    {
      "attachments": {},
      "cell_type": "markdown",
      "metadata": {},
      "source": []
    },
    {
      "attachments": {},
      "cell_type": "markdown",
      "metadata": {
        "id": "OQW50feBTlLv"
      },
      "source": [
        "La imagen ha sido redimensionada mediante la Transformada Wavelet Discreta, en el cual el numero de dimensiones de nuestro vector caracterisrico dependera del numero de cortes"
      ]
    },
    {
      "cell_type": "code",
      "execution_count": 331,
      "metadata": {
        "colab": {
          "base_uri": "https://localhost:8080/"
        },
        "id": "rObosj3hR9qE",
        "outputId": "f43bc19f-064d-4c99-d294-70ec70dc4323"
      },
      "outputs": [
        {
          "data": {
            "text/plain": [
              "array([-546.19791667, -449.94791667,  368.67708333,  552.55208333,\n",
              "       -214.82291667, -461.82291667, -554.07291667, -114.44791667,\n",
              "        206.42708333,  196.30208333,  127.42708333, -578.57291667,\n",
              "       -331.82291667, -289.19791667,  152.42708333, -115.07291667,\n",
              "       -135.19791667, -368.32291667,  176.30208333,  458.80208333,\n",
              "        524.17708333,  407.05208333,  364.05208333,  164.42708333,\n",
              "       -480.44791667,  260.80208333,  116.05208333,   39.42708333,\n",
              "         88.05208333, -491.82291667,  952.30208333,  161.30208333,\n",
              "       -129.82291667, -242.44791667, -167.07291667,  354.55208333])"
            ]
          },
          "execution_count": 331,
          "metadata": {},
          "output_type": "execute_result"
        }
      ],
      "source": [
        "imagen_feature_vector('./data/CK+48/anger/S010_004_00000017.png')"
      ]
    },
    {
      "attachments": {},
      "cell_type": "markdown",
      "metadata": {
        "id": "rNk0TV43T3l5"
      },
      "source": [
        "##### Función para cargar imágenes"
      ]
    },
    {
      "cell_type": "code",
      "execution_count": 332,
      "metadata": {},
      "outputs": [],
      "source": [
        "# Cantidad de imagenes en cada carpeta\n",
        "# anger:\n",
        "# contempt: \n",
        "# disgust: \n",
        "# fear: \n",
        "# happy: \n",
        "# sadness:\n",
        "# suprise: "
      ]
    },
    {
      "cell_type": "code",
      "execution_count": 333,
      "metadata": {
        "id": "f8c6hLaCO9g7"
      },
      "outputs": [],
      "source": [
        "def feature_vector_load_images(folder):\n",
        "  dicc = {}\n",
        "  name_images = []\n",
        "  feature_vector_val = []\n",
        "  with os.scandir(path) as ficheros:\n",
        "      for fichero in ficheros:\n",
        "          if(fichero.name != \".DS_Store\"):\n",
        "            name_images.append(fichero.name)\n",
        "            #dicc[fichero.name] = imagen_feature_vector(path+fichero.name)\n",
        "            for name_image in os.scandir(fichero.path):\n",
        "               #print(name_image.path,name_image.name)\n",
        "               if(name_image.name not in dicc):\n",
        "                dicc[name_image.path] = imagen_feature_vector(name_image.path)\n",
        "                feature_vector_val.append(imagen_feature_vector(name_image.path))\n",
        "                #print(imagen_feature_vector(name_image.path).shape)\n",
        "                #dicc[name_image.path] = fichero.name\n",
        "\n",
        "  return feature_vector_val\n",
        "\n",
        "def complete(data):\n",
        "  longitud_maxima = max(len(secuencia) for secuencia in data)\n",
        "  # Realiza relleno (padding) para igualar la longitud de las secuencias\n",
        "  datos_rellenados = []\n",
        "  for secuencia in data:\n",
        "      diferencia_longitud = longitud_maxima - len(secuencia)\n",
        "      secuencia_rellenada = np.pad(secuencia, (0, diferencia_longitud), mode='constant')\n",
        "      datos_rellenados.append(secuencia_rellenada)\n",
        "  return np.array(datos_rellenados)\n",
        "\n",
        "X = feature_vector_load_images(path) \n",
        "#complete_list_vectores_images = complete(list_vectores_images)\n",
        "#images = np.concatenate(list_vectores_images) \n",
        "#type(images)\n",
        "#X[0].shape\n"
      ]
    },
    {
      "cell_type": "code",
      "execution_count": 334,
      "metadata": {},
      "outputs": [
        {
          "data": {
            "text/plain": [
              "(981, 36)"
            ]
          },
          "execution_count": 334,
          "metadata": {},
          "output_type": "execute_result"
        }
      ],
      "source": [
        "X = np.array(X)\n",
        "X.shape"
      ]
    },
    {
      "attachments": {},
      "cell_type": "markdown",
      "metadata": {},
      "source": [
        "### Contar y guardar la cantidad de imagenes por tipo"
      ]
    },
    {
      "attachments": {},
      "cell_type": "markdown",
      "metadata": {},
      "source": [
        "#### Análisis exploratorio de los datos"
      ]
    },
    {
      "cell_type": "code",
      "execution_count": 325,
      "metadata": {},
      "outputs": [
        {
          "data": {
            "text/plain": [
              "surprise    25.38\n",
              "happy       21.10\n",
              "disgust     18.04\n",
              "anger       13.76\n",
              "sadness      8.56\n",
              "fear         7.65\n",
              "contempt     5.50\n",
              "Name: type, dtype: float64"
            ]
          },
          "execution_count": 325,
          "metadata": {},
          "output_type": "execute_result"
        }
      ],
      "source": [
        "# Guardando informacion de los tipos de imagenes en un dataframe para analizar\n",
        "#count_images = 1\n",
        "#dicc_images = {}\n",
        "#for i,j in images.items():\n",
        "#   dicc_images[count_images]= j\n",
        "#   count_images += 1\n",
        "\n",
        "#df_types = pd.DataFrame(dicc_images.items(), columns=['id', 'type'])\n",
        "#df_types.to_csv('./data/data.csv', index=False, header=True, sep=',')\n",
        "\n",
        "# Leer datos del csv exportado previamente\n",
        "df_types = pd.read_csv('./data/data.csv')\n",
        "target = np.array(df_types['type']).T\n",
        "# Porcentaje de imagenes por tipo\n",
        "\n",
        "\n",
        "label_num = {\"happy\": 0, \"contempt\" : 1, \"fear\" : 2, \"surprise\" : 3, \"sadness\" : 4, \"anger\" : 5, \"disgust\" : 6}\n",
        "#label_num = {\"anger\": 0, \"contempt\" : 1, \"disgust\" : 2, \"fear\" : 3, \"happy\" : 4, \"sadness\" : 5, \"surprise\" : 6}\n",
        "y = list(df_types.iloc[:, 1])\n",
        "labels_true = [label_num[e] for e in y]\n",
        "\n",
        "(100 * df_types['type'].value_counts() / len(df_types['type'])).round(2)\n"
      ]
    },
    {
      "cell_type": "code",
      "execution_count": 326,
      "metadata": {},
      "outputs": [
        {
          "data": {
            "text/plain": [
              "Text(0, 0.5, 'Cantidad de imagenes')"
            ]
          },
          "execution_count": 326,
          "metadata": {},
          "output_type": "execute_result"
        },
        {
          "data": {
            "image/png": "[encoded data removed]",
            "text/plain": [
              "<Figure size 640x480 with 1 Axes>"
            ]
          },
          "metadata": {},
          "output_type": "display_data"
        }
      ],
      "source": [
        "#df_types['type'].value_counts().plot(kind='bar',title='imagenes')\n",
        "sns.histplot(data=df_types, x=\"type\")\n",
        "plt.xlabel('Tipo de imagen')\n",
        "plt.ylabel('Cantidad de imagenes')"
      ]
    },
    {
      "attachments": {},
      "cell_type": "markdown",
      "metadata": {},
      "source": [
        "### Clase de Clustering"
      ]
    },
    {
      "cell_type": "code",
      "execution_count": 327,
      "metadata": {},
      "outputs": [],
      "source": [
        "class Clustering(metaclass=ABCMeta):\n",
        "    pass"
      ]
    },
    {
      "attachments": {},
      "cell_type": "markdown",
      "metadata": {},
      "source": [
        "#### Kmeans"
      ]
    },
    {
      "cell_type": "code",
      "execution_count": 328,
      "metadata": {},
      "outputs": [],
      "source": [
        "class KMeansClustering(Clustering):\n",
        "    def __init__(self,data, n_clusters=7,n_iter = 1000):\n",
        "        self.data = data\n",
        "        self.n_clusters = n_clusters\n",
        "        self.n_iter = n_iter\n",
        "        print(\"KMeansClustering: \",self.n_clusters)\n",
        "        \n",
        "    def init_centroide(self,data):\n",
        "        centroides = data[np.random.choice(data.shape[0], self.n_clusters, replace=False),:]\n",
        "        return centroides   \n",
        "    \n",
        "    def get_min_distance(self,data,centroide):\n",
        "        index = []\n",
        "        for row in data:\n",
        "            index.append(np.argmin(euclidean_distances(centroide,[row])))\n",
        "        return index\n",
        "    \n",
        "    def get_means(self,data,grupos,n):\n",
        "        centroides = []\n",
        "        for i in range(n):\n",
        "            array = [data[j] for j, k in enumerate(grupos) if i == k]\n",
        "            centroides.append(np.sum(array, axis = 0) / len(array))\n",
        "        return centroides\n",
        "    \n",
        "    def kmean(self,):\n",
        "        centroides = self.init_centroide(self.data) # Selecciona k centroides\n",
        "        grupos = None\n",
        "        for i in range(self.n_iter):\n",
        "            grupos = self.get_min_distance(self.data, centroides)\n",
        "            temp =  self.get_means(self.data, grupos, self.n_clusters)\n",
        "            diff = np.array(centroides) - np.array(temp)\n",
        "            centroides = temp\n",
        "        return centroides, grupos\n",
        "\n"
      ]
    },
    {
      "cell_type": "code",
      "execution_count": null,
      "metadata": {},
      "outputs": [],
      "source": []
    },
    {
      "cell_type": "code",
      "execution_count": 243,
      "metadata": {},
      "outputs": [],
      "source": [
        "def get_score(labels_true, prediction_pca, X_pca):\n",
        "    scores = {\n",
        "        \"PCA\": np.array([silhouette_score(X_pca, prediction_pca),\n",
        "        homogeneity_score(labels_true, prediction_pca), \n",
        "        rand_score(labels_true, prediction_pca),\n",
        "        adjusted_rand_score(labels_true, prediction_pca), \n",
        "        adjusted_mutual_info_score(labels_true, prediction_pca)]), \n",
        "    }\n",
        "    df = pd.DataFrame.from_dict(scores, orient = \"index\", columns=[\"Silhouette\",\"Homogeneidad\", \"Rand\", \"Adjust Rand\", \"Adjust Mutual Information\"])\n",
        "    return df"
      ]
    },
    {
      "cell_type": "code",
      "execution_count": 244,
      "metadata": {},
      "outputs": [
        {
          "name": "stderr",
          "output_type": "stream",
          "text": [
            "/opt/homebrew/lib/python3.11/site-packages/sklearn/cluster/_kmeans.py:870: FutureWarning: The default value of `n_init` will change from 10 to 'auto' in 1.4. Set the value of `n_init` explicitly to suppress the warning\n",
            "  warnings.warn(\n"
          ]
        },
        {
          "name": "stdout",
          "output_type": "stream",
          "text": [
            "KMeansClustering:  7\n",
            "PCA Kmeans sklearn\n",
            "{'happy': [3, 5, 6, 0, 4, 1, 2], 'contempt': [3, 2, 6, 0, 4], 'fear': [0, 4, 1, 6, 2, 3], 'surprise': [4, 0, 2, 3, 6, 5, 1], 'sadness': [4, 3, 2, 0, 5, 6, 1], 'anger': [1, 3, 6, 2, 0, 4], 'disgust': [0, 2, 6, 3, 5, 4, 1]}\n",
            "PCA Kmeans Implementado\n",
            "{'happy': [0, 2, 5, 4, 1, 6, 3], 'contempt': [0, 4, 3, 5, 6, 1], 'fear': [4, 1, 2, 5, 3, 0], 'surprise': [1, 6, 3, 0, 4, 5, 2], 'sadness': [1, 0, 3, 4, 2, 5, 6], 'anger': [2, 0, 5, 3, 4, 1, 6], 'disgust': [4, 3, 5, 0, 2, 1, 6]}\n"
          ]
        }
      ],
      "source": [
        "kmeans_pca = KMeans(n_clusters=7, random_state= 42)\n",
        "kmeans_pca.fit(X)\n",
        "kmeans_model = KMeansClustering(X, n_clusters=7,n_iter = 1000)\n",
        "centroides_pca, labels_impl = kmeans_model.kmean()\n",
        "prediction_kmeans = kmeans_pca.predict(X)\n",
        "print(\"PCA Kmeans sklearn\")\n",
        "printCluster(target, prediction_kmeans)\n",
        "print(\"PCA Kmeans Implementado\")\n",
        "printCluster(target, labels_impl)\n"
      ]
    },
    {
      "cell_type": "code",
      "execution_count": 245,
      "metadata": {},
      "outputs": [
        {
          "data": {
            "text/html": [
              "<div>\n",
              "<style scoped>\n",
              "    .dataframe tbody tr th:only-of-type {\n",
              "        vertical-align: middle;\n",
              "    }\n",
              "\n",
              "    .dataframe tbody tr th {\n",
              "        vertical-align: top;\n",
              "    }\n",
              "\n",
              "    .dataframe thead th {\n",
              "        text-align: right;\n",
              "    }\n",
              "</style>\n",
              "<table border=\"1\" class=\"dataframe\">\n",
              "  <thead>\n",
              "    <tr style=\"text-align: right;\">\n",
              "      <th></th>\n",
              "      <th>Silhouette</th>\n",
              "      <th>Homogeneidad</th>\n",
              "      <th>Rand</th>\n",
              "      <th>Adjust Rand</th>\n",
              "      <th>Adjust Mutual Information</th>\n",
              "    </tr>\n",
              "  </thead>\n",
              "  <tbody>\n",
              "    <tr>\n",
              "      <th>PCA</th>\n",
              "      <td>0.41596</td>\n",
              "      <td>0.052652</td>\n",
              "      <td>0.714664</td>\n",
              "      <td>0.021304</td>\n",
              "      <td>0.042807</td>\n",
              "    </tr>\n",
              "  </tbody>\n",
              "</table>\n",
              "</div>"
            ],
            "text/plain": [
              "     Silhouette  Homogeneidad      Rand  Adjust Rand  \\\n",
              "PCA     0.41596      0.052652  0.714664     0.021304   \n",
              "\n",
              "     Adjust Mutual Information  \n",
              "PCA                   0.042807  "
            ]
          },
          "execution_count": 245,
          "metadata": {},
          "output_type": "execute_result"
        }
      ],
      "source": [
        "df = get_score(labels_true, labels_impl,X)\n",
        "df"
      ]
    },
    {
      "cell_type": "code",
      "execution_count": 246,
      "metadata": {},
      "outputs": [
        {
          "data": {
            "text/html": [
              "<div>\n",
              "<style scoped>\n",
              "    .dataframe tbody tr th:only-of-type {\n",
              "        vertical-align: middle;\n",
              "    }\n",
              "\n",
              "    .dataframe tbody tr th {\n",
              "        vertical-align: top;\n",
              "    }\n",
              "\n",
              "    .dataframe thead th {\n",
              "        text-align: right;\n",
              "    }\n",
              "</style>\n",
              "<table border=\"1\" class=\"dataframe\">\n",
              "  <thead>\n",
              "    <tr style=\"text-align: right;\">\n",
              "      <th></th>\n",
              "      <th>Silhouette</th>\n",
              "      <th>Homogeneidad</th>\n",
              "      <th>Rand</th>\n",
              "      <th>Adjust Rand</th>\n",
              "      <th>Adjust Mutual Information</th>\n",
              "    </tr>\n",
              "  </thead>\n",
              "  <tbody>\n",
              "    <tr>\n",
              "      <th>PCA</th>\n",
              "      <td>0.485092</td>\n",
              "      <td>0.047876</td>\n",
              "      <td>0.705157</td>\n",
              "      <td>0.010083</td>\n",
              "      <td>0.038354</td>\n",
              "    </tr>\n",
              "  </tbody>\n",
              "</table>\n",
              "</div>"
            ],
            "text/plain": [
              "     Silhouette  Homogeneidad      Rand  Adjust Rand  \\\n",
              "PCA    0.485092      0.047876  0.705157     0.010083   \n",
              "\n",
              "     Adjust Mutual Information  \n",
              "PCA                   0.038354  "
            ]
          },
          "execution_count": 246,
          "metadata": {},
          "output_type": "execute_result"
        }
      ],
      "source": [
        "df = get_score(labels_true, prediction_kmeans,X)\n",
        "df"
      ]
    },
    {
      "cell_type": "code",
      "execution_count": 247,
      "metadata": {},
      "outputs": [
        {
          "name": "stderr",
          "output_type": "stream",
          "text": [
            "/opt/homebrew/lib/python3.11/site-packages/sklearn/cluster/_kmeans.py:870: FutureWarning: The default value of `n_init` will change from 10 to 'auto' in 1.4. Set the value of `n_init` explicitly to suppress the warning\n",
            "  warnings.warn(\n"
          ]
        },
        {
          "name": "stdout",
          "output_type": "stream",
          "text": [
            "KMeansClustering:  2\n",
            "PCA Kmeans sklearn\n",
            "{'happy': [0, 1], 'contempt': [0, 1], 'fear': [0, 1], 'surprise': [0, 1], 'sadness': [0, 1], 'anger': [1, 0], 'disgust': [0, 1]}\n",
            "PCA Kmeans Implementado\n",
            "{'happy': [1, 0], 'contempt': [1, 0], 'fear': [1, 0], 'surprise': [1, 0], 'sadness': [1, 0], 'anger': [0, 1], 'disgust': [1, 0]}\n",
            "IMPLEMENTADO\n",
            "      Silhouette  Homogeneidad      Rand  Adjust Rand  \\\n",
            "PCA    0.525843      0.005902  0.471015     0.001568   \n",
            "\n",
            "     Adjust Mutual Information  \n",
            "PCA                   0.006242  \n",
            "LIBRERIA\n",
            "      Silhouette  Homogeneidad      Rand  Adjust Rand  \\\n",
            "PCA    0.525843      0.005902  0.471015     0.001568   \n",
            "\n",
            "     Adjust Mutual Information  \n",
            "PCA                   0.006242  \n",
            "KMeansClustering:  3\n"
          ]
        },
        {
          "name": "stderr",
          "output_type": "stream",
          "text": [
            "/opt/homebrew/lib/python3.11/site-packages/sklearn/cluster/_kmeans.py:870: FutureWarning: The default value of `n_init` will change from 10 to 'auto' in 1.4. Set the value of `n_init` explicitly to suppress the warning\n",
            "  warnings.warn(\n"
          ]
        },
        {
          "name": "stdout",
          "output_type": "stream",
          "text": [
            "PCA Kmeans sklearn\n",
            "{'happy': [0, 1, 2], 'contempt': [0, 2], 'fear': [0, 1, 2], 'surprise': [0, 2, 1], 'sadness': [0, 2, 1], 'anger': [1, 0, 2], 'disgust': [0, 2, 1]}\n",
            "PCA Kmeans Implementado\n",
            "{'happy': [1, 0, 2], 'contempt': [1, 2, 0], 'fear': [2, 1, 0], 'surprise': [1, 2, 0], 'sadness': [1, 0, 2], 'anger': [0, 1, 2], 'disgust': [2, 0, 1]}\n",
            "IMPLEMENTADO\n",
            "      Silhouette  Homogeneidad      Rand  Adjust Rand  \\\n",
            "PCA    0.414453      0.011625  0.595706     0.010572   \n",
            "\n",
            "     Adjust Mutual Information  \n",
            "PCA                   0.010486  \n",
            "LIBRERIA\n",
            "      Silhouette  Homogeneidad      Rand  Adjust Rand  \\\n",
            "PCA    0.585789      0.023171  0.510171     0.001598   \n",
            "\n",
            "     Adjust Mutual Information  \n",
            "PCA                   0.026745  \n"
          ]
        },
        {
          "name": "stderr",
          "output_type": "stream",
          "text": [
            "/opt/homebrew/lib/python3.11/site-packages/sklearn/cluster/_kmeans.py:870: FutureWarning: The default value of `n_init` will change from 10 to 'auto' in 1.4. Set the value of `n_init` explicitly to suppress the warning\n",
            "  warnings.warn(\n"
          ]
        },
        {
          "name": "stdout",
          "output_type": "stream",
          "text": [
            "KMeansClustering:  4\n",
            "PCA Kmeans sklearn\n",
            "{'happy': [3, 1, 2, 0], 'contempt': [3, 0, 2], 'fear': [0, 3, 1, 2], 'surprise': [3, 0, 2, 1], 'sadness': [3, 2, 0, 1], 'anger': [1, 3, 2, 0], 'disgust': [0, 2, 3, 1]}\n",
            "PCA Kmeans Implementado\n",
            "{'happy': [1, 3, 0, 2], 'contempt': [1, 3, 0, 2], 'fear': [0, 2, 3, 1], 'surprise': [2, 0, 3, 1], 'sadness': [2, 1, 3, 0], 'anger': [3, 1, 0, 2], 'disgust': [0, 3, 1, 2]}\n",
            "IMPLEMENTADO\n",
            "      Silhouette  Homogeneidad      Rand  Adjust Rand  \\\n",
            "PCA    0.351709      0.021777  0.659319     0.019135   \n",
            "\n",
            "     Adjust Mutual Information  \n",
            "PCA                   0.019273  \n",
            "LIBRERIA\n",
            "      Silhouette  Homogeneidad      Rand  Adjust Rand  \\\n",
            "PCA    0.489429      0.028894  0.634862     0.011567   \n",
            "\n",
            "     Adjust Mutual Information  \n",
            "PCA                   0.027992  \n",
            "KMeansClustering:  5\n"
          ]
        },
        {
          "name": "stderr",
          "output_type": "stream",
          "text": [
            "/opt/homebrew/lib/python3.11/site-packages/sklearn/cluster/_kmeans.py:870: FutureWarning: The default value of `n_init` will change from 10 to 'auto' in 1.4. Set the value of `n_init` explicitly to suppress the warning\n",
            "  warnings.warn(\n"
          ]
        },
        {
          "name": "stdout",
          "output_type": "stream",
          "text": [
            "PCA Kmeans sklearn\n",
            "{'happy': [0, 4, 1, 3, 2], 'contempt': [0, 3, 1], 'fear': [3, 0, 2, 1], 'surprise': [0, 3, 1, 4, 2], 'sadness': [0, 1, 3, 4, 2], 'anger': [2, 0, 1, 3], 'disgust': [3, 1, 0, 4, 2]}\n",
            "PCA Kmeans Implementado\n",
            "{'happy': [2, 4, 0, 1, 3], 'contempt': [2, 0, 1, 3], 'fear': [1, 3, 4, 0, 2], 'surprise': [3, 1, 0, 2, 4], 'sadness': [3, 2, 0, 1, 4], 'anger': [4, 2, 0, 1, 3], 'disgust': [1, 0, 2, 4, 3]}\n",
            "IMPLEMENTADO\n",
            "      Silhouette  Homogeneidad      Rand  Adjust Rand  \\\n",
            "PCA     0.45376      0.034906  0.691046     0.015465   \n",
            "\n",
            "     Adjust Mutual Information  \n",
            "PCA                   0.030387  \n",
            "LIBRERIA\n",
            "      Silhouette  Homogeneidad      Rand  Adjust Rand  \\\n",
            "PCA    0.508766      0.036751  0.640658     0.004911   \n",
            "\n",
            "     Adjust Mutual Information  \n",
            "PCA                   0.034058  \n",
            "KMeansClustering:  6\n"
          ]
        },
        {
          "name": "stderr",
          "output_type": "stream",
          "text": [
            "/opt/homebrew/lib/python3.11/site-packages/sklearn/cluster/_kmeans.py:870: FutureWarning: The default value of `n_init` will change from 10 to 'auto' in 1.4. Set the value of `n_init` explicitly to suppress the warning\n",
            "  warnings.warn(\n"
          ]
        },
        {
          "name": "stdout",
          "output_type": "stream",
          "text": [
            "PCA Kmeans sklearn\n",
            "{'happy': [0, 3, 5, 4, 1, 2], 'contempt': [0, 4, 2, 5], 'fear': [4, 0, 1, 5, 2], 'surprise': [0, 4, 2, 5, 3, 1], 'sadness': [0, 2, 4, 3, 5, 1], 'anger': [1, 0, 5, 2, 4], 'disgust': [4, 2, 5, 0, 3, 1]}\n",
            "PCA Kmeans Implementado\n",
            "{'happy': [5, 3, 2, 4, 0, 1], 'contempt': [5, 4, 2, 1, 0], 'fear': [4, 0, 3, 2, 5], 'surprise': [0, 1, 2, 5, 4, 3], 'sadness': [0, 5, 2, 4, 3, 1], 'anger': [3, 5, 2, 4, 0, 1], 'disgust': [4, 2, 5, 3, 0, 1]}\n",
            "IMPLEMENTADO\n",
            "      Silhouette  Homogeneidad      Rand  Adjust Rand  \\\n",
            "PCA    0.408788      0.047512  0.706256     0.018367   \n",
            "\n",
            "     Adjust Mutual Information  \n",
            "PCA                   0.040468  \n",
            "LIBRERIA\n",
            "      Silhouette  Homogeneidad      Rand  Adjust Rand  \\\n",
            "PCA    0.516549      0.041645  0.649161     0.006824   \n",
            "\n",
            "     Adjust Mutual Information  \n",
            "PCA                   0.036512  \n"
          ]
        },
        {
          "name": "stderr",
          "output_type": "stream",
          "text": [
            "/opt/homebrew/lib/python3.11/site-packages/sklearn/cluster/_kmeans.py:870: FutureWarning: The default value of `n_init` will change from 10 to 'auto' in 1.4. Set the value of `n_init` explicitly to suppress the warning\n",
            "  warnings.warn(\n"
          ]
        },
        {
          "name": "stdout",
          "output_type": "stream",
          "text": [
            "KMeansClustering:  7\n",
            "PCA Kmeans sklearn\n",
            "{'happy': [3, 5, 6, 0, 4, 1, 2], 'contempt': [3, 2, 6, 0, 4], 'fear': [0, 4, 1, 6, 2, 3], 'surprise': [4, 0, 2, 3, 6, 5, 1], 'sadness': [4, 3, 2, 0, 5, 6, 1], 'anger': [1, 3, 6, 2, 0, 4], 'disgust': [0, 2, 6, 3, 5, 4, 1]}\n",
            "PCA Kmeans Implementado\n",
            "{'happy': [3, 6, 1, 2, 4, 0, 5], 'contempt': [3, 0, 1, 2, 4], 'fear': [2, 4, 5, 1, 0, 3], 'surprise': [4, 2, 1, 3, 0, 6, 5], 'sadness': [4, 0, 1, 2, 3, 6, 5], 'anger': [5, 3, 1, 0, 2, 4], 'disgust': [2, 1, 0, 6, 4, 3, 5]}\n",
            "IMPLEMENTADO\n",
            "      Silhouette  Homogeneidad      Rand  Adjust Rand  \\\n",
            "PCA    0.409343      0.047286  0.723339     0.014037   \n",
            "\n",
            "     Adjust Mutual Information  \n",
            "PCA                   0.036931  \n",
            "LIBRERIA\n",
            "      Silhouette  Homogeneidad      Rand  Adjust Rand  \\\n",
            "PCA    0.485092      0.047876  0.705157     0.010083   \n",
            "\n",
            "     Adjust Mutual Information  \n",
            "PCA                   0.038354  \n"
          ]
        }
      ],
      "source": [
        "for i in range(2,8):\n",
        "    random.seed(10)\n",
        "    kmeans_pca = KMeans(n_clusters=i, random_state= 42)\n",
        "    kmeans_pca.fit(X)\n",
        "    kmeans_model = KMeansClustering(X, n_clusters=i,n_iter = 1000)\n",
        "    centroides_pca, labels_impl = kmeans_model.kmean()\n",
        "    prediction_kmeans = kmeans_pca.predict(X)\n",
        "    print(\"PCA Kmeans sklearn\")\n",
        "    printCluster(target, prediction_kmeans)\n",
        "    print(\"PCA Kmeans Implementado\")\n",
        "    printCluster(target, labels_impl)\n",
        "    print(\"IMPLEMENTADO\\n\",get_score(labels_true, labels_impl,X))\n",
        "    print(\"LIBRERIA\\n\",get_score(labels_true, prediction_kmeans,X))"
      ]
    },
    {
      "attachments": {},
      "cell_type": "markdown",
      "metadata": {},
      "source": [
        "#### DBSCAN"
      ]
    },
    {
      "cell_type": "code",
      "execution_count": 254,
      "metadata": {},
      "outputs": [],
      "source": [
        "\n",
        "class DBSCANClustering(Clustering):\n",
        "    def __init__(self, eps=0.5, min_samples=5):\n",
        "        self.eps = eps\n",
        "        self.min_samples = min_samples\n",
        "\n",
        "    def _neighborhood(self, point_id):\n",
        "        dists = np.sqrt(((self.X - self.X[point_id]) ** 2).sum(axis=1))\n",
        "        return np.where(dists <= self.eps)[0]\n",
        "\n",
        "    def fit(self, X):\n",
        "        self.X = X\n",
        "        self.labels_ = -np.ones(X.shape[0], dtype=int)\n",
        "        current_label = 0\n",
        "\n",
        "        for point_id in range(X.shape[0]):\n",
        "            if self.labels_[point_id] != -1:\n",
        "                continue\n",
        "\n",
        "            neighbors = self._neighborhood(point_id)\n",
        "            if neighbors.size < self.min_samples:\n",
        "                self.labels_[point_id] = 0\n",
        "            else:\n",
        "                current_label += 1\n",
        "                self.labels_[point_id] = current_label\n",
        "                self._expand_cluster(current_label, neighbors)\n",
        "\n",
        "        return self\n",
        "\n",
        "    def _expand_cluster(self, current_label, neighbors):\n",
        "        i = 0\n",
        "        while i < neighbors.size:\n",
        "            next_point_id = neighbors[i]\n",
        "\n",
        "            if self.labels_[next_point_id] == 0:\n",
        "                self.labels_[next_point_id] = current_label\n",
        "            elif self.labels_[next_point_id] == -1:\n",
        "                self.labels_[next_point_id] = current_label\n",
        "                next_neighbors = self._neighborhood(next_point_id)\n",
        "                if next_neighbors.size >= self.min_samples:\n",
        "                    neighbors = np.concatenate((neighbors, next_neighbors))\n",
        "\n",
        "            i += 1"
      ]
    },
    {
      "cell_type": "code",
      "execution_count": 255,
      "metadata": {},
      "outputs": [],
      "source": [
        "dbscan_pca = DBSCAN(eps= 100, min_samples= 3)\n",
        "dbscan_model_pca = DBSCANClustering(eps= 100, min_samples= 3)\n",
        "dbscan_pca.fit(X)\n",
        "dbscan_model_pca.fit(X)\n",
        "predict_dbscan_pca = dbscan_pca.labels_\n",
        "predict_dbscan_model_pca = dbscan_model_pca.labels_"
      ]
    },
    {
      "cell_type": "code",
      "execution_count": 256,
      "metadata": {},
      "outputs": [
        {
          "data": {
            "text/html": [
              "<div>\n",
              "<style scoped>\n",
              "    .dataframe tbody tr th:only-of-type {\n",
              "        vertical-align: middle;\n",
              "    }\n",
              "\n",
              "    .dataframe tbody tr th {\n",
              "        vertical-align: top;\n",
              "    }\n",
              "\n",
              "    .dataframe thead th {\n",
              "        text-align: right;\n",
              "    }\n",
              "</style>\n",
              "<table border=\"1\" class=\"dataframe\">\n",
              "  <thead>\n",
              "    <tr style=\"text-align: right;\">\n",
              "      <th></th>\n",
              "      <th>Silhouette</th>\n",
              "      <th>Homogeneidad</th>\n",
              "      <th>Rand</th>\n",
              "      <th>Adjust Rand</th>\n",
              "      <th>Adjust Mutual Information</th>\n",
              "    </tr>\n",
              "  </thead>\n",
              "  <tbody>\n",
              "    <tr>\n",
              "      <th>PCA</th>\n",
              "      <td>-0.261833</td>\n",
              "      <td>0.01777</td>\n",
              "      <td>0.198427</td>\n",
              "      <td>0.003668</td>\n",
              "      <td>0.018643</td>\n",
              "    </tr>\n",
              "  </tbody>\n",
              "</table>\n",
              "</div>"
            ],
            "text/plain": [
              "     Silhouette  Homogeneidad      Rand  Adjust Rand  \\\n",
              "PCA   -0.261833       0.01777  0.198427     0.003668   \n",
              "\n",
              "     Adjust Mutual Information  \n",
              "PCA                   0.018643  "
            ]
          },
          "execution_count": 256,
          "metadata": {},
          "output_type": "execute_result"
        }
      ],
      "source": [
        "df = get_score(labels_true, predict_dbscan_pca,X)\n",
        "df"
      ]
    },
    {
      "cell_type": "code",
      "execution_count": 257,
      "metadata": {},
      "outputs": [
        {
          "data": {
            "text/html": [
              "<div>\n",
              "<style scoped>\n",
              "    .dataframe tbody tr th:only-of-type {\n",
              "        vertical-align: middle;\n",
              "    }\n",
              "\n",
              "    .dataframe tbody tr th {\n",
              "        vertical-align: top;\n",
              "    }\n",
              "\n",
              "    .dataframe thead th {\n",
              "        text-align: right;\n",
              "    }\n",
              "</style>\n",
              "<table border=\"1\" class=\"dataframe\">\n",
              "  <thead>\n",
              "    <tr style=\"text-align: right;\">\n",
              "      <th></th>\n",
              "      <th>Silhouette</th>\n",
              "      <th>Homogeneidad</th>\n",
              "      <th>Rand</th>\n",
              "      <th>Adjust Rand</th>\n",
              "      <th>Adjust Mutual Information</th>\n",
              "    </tr>\n",
              "  </thead>\n",
              "  <tbody>\n",
              "    <tr>\n",
              "      <th>PCA</th>\n",
              "      <td>-0.261833</td>\n",
              "      <td>0.01777</td>\n",
              "      <td>0.198427</td>\n",
              "      <td>0.003668</td>\n",
              "      <td>0.018643</td>\n",
              "    </tr>\n",
              "  </tbody>\n",
              "</table>\n",
              "</div>"
            ],
            "text/plain": [
              "     Silhouette  Homogeneidad      Rand  Adjust Rand  \\\n",
              "PCA   -0.261833       0.01777  0.198427     0.003668   \n",
              "\n",
              "     Adjust Mutual Information  \n",
              "PCA                   0.018643  "
            ]
          },
          "execution_count": 257,
          "metadata": {},
          "output_type": "execute_result"
        }
      ],
      "source": [
        "df = get_score(labels_true, predict_dbscan_model_pca,X)\n",
        "df"
      ]
    },
    {
      "cell_type": "code",
      "execution_count": 344,
      "metadata": {},
      "outputs": [
        {
          "name": "stdout",
          "output_type": "stream",
          "text": [
            "PCA DBSCAN sklearn\n",
            "{'happy': [0, 1, 2, -1, 3, 4, 5, 6, 7, 8, 9, 10, 11, 12, 13, 14, 15, 16, 17, 18, 19, 20, 21, 22, 23, 24, 25, 26, 27, 28, 29, 30, 31, 32, 33, 34, 35, 36, 37, 38, 39, 40, 41, 42], 'contempt': [43, 44, 45, 46, 47, -1, 48, 49, 50, 51, 52, 53, 54, 55, 56, 57, 58], 'fear': [-1, 59, 60, 61, 62, 63, 64, 65, 66, 67, 68, 69, 70, 71], 'surprise': [-1, 72, 73, 74, 75, 76, 77, 78, 79, 80, 81, 82, 83, 84, 85, 86, 87, 88, 89, 90, 91, 92, 93, 94, 95, 96, 97, 98, 99, 100, 101, 102, 103, 104], 'sadness': [105, 106, 107, 108, -1, 109, 110, 111, 112, 113, 114, 115, 116, 117, 118, 119, 120, 121, 122, 123, 124], 'anger': [-1, 125, 126, 127, 128, 129, 130, 131, 132, 133, 134, 135, 136, 137, 138, 139, 140, 141, 142, 143, 144, 145, 146, 147, 148, 149, 150, 151, 152, 153], 'disgust': [154, -1, 155, 156, 157, 158, 159, 160, 161, 162, 163, 164, 165, 166, 167, 168, 169, 170, 171, 172, 173, 174, 175, 176, 177, 178, 179, 180, 181, 182, 183, 184, 185, 186, 187, 188, 189, 190]}\n",
            "PCA DBSCAN Implementado\n",
            "{'happy': [1, 2, 3, 0, 4, 5, 6, 7, 8, 9, 10, 11, 12, 13, 14, 15, 16, 17, 18, 19, 20, 21, 22, 23, 24, 25, 26, 27, 28, 29, 30, 31, 32, 33, 34, 35, 36, 37, 38, 39, 40, 41, 42, 43], 'contempt': [44, 45, 46, 47, 48, 0, 49, 50, 51, 52, 53, 54, 55, 56, 57, 58, 59], 'fear': [0, 60, 61, 62, 63, 64, 65, 66, 67, 68, 69, 70, 71, 72], 'surprise': [0, 73, 74, 75, 76, 77, 78, 79, 80, 81, 82, 83, 84, 85, 86, 87, 88, 89, 90, 91, 92, 93, 94, 95, 96, 97, 98, 99, 100, 101, 102, 103, 104, 105], 'sadness': [106, 107, 108, 109, 0, 110, 111, 112, 113, 114, 115, 116, 117, 118, 119, 120, 121, 122, 123, 124, 125], 'anger': [0, 126, 127, 128, 129, 130, 131, 132, 133, 134, 135, 136, 137, 138, 139, 140, 141, 142, 143, 144, 145, 146, 147, 148, 149, 150, 151, 152, 153, 154], 'disgust': [155, 0, 156, 157, 158, 159, 160, 161, 162, 163, 164, 165, 166, 167, 168, 169, 170, 171, 172, 173, 174, 175, 176, 177, 178, 179, 180, 181, 182, 183, 184, 185, 186, 187, 188, 189, 190, 191]}\n",
            "IMPLEMENTADO\n",
            "      Silhouette  Homogeneidad      Rand  Adjust Rand  \\\n",
            "PCA    0.013057      0.503391  0.661663     0.050168   \n",
            "\n",
            "     Adjust Mutual Information  \n",
            "PCA                   0.201479  \n",
            "LIBRERIA\n",
            "      Silhouette  Homogeneidad      Rand  Adjust Rand  \\\n",
            "PCA    0.013057      0.503391  0.661663     0.050168   \n",
            "\n",
            "     Adjust Mutual Information  \n",
            "PCA                   0.201479  \n",
            "PCA DBSCAN sklearn\n",
            "{'happy': [-1, 0, 1, 2, 3, 6, 4, 5, 7, 8, 9, 10, 11], 'contempt': [13, 12, 15, 14, -1, 16, 19, 17, 18, 20, 21], 'fear': [-1, 22, 23, 24, 26, 25], 'surprise': [-1, 27, 28, 31, 29, 30, 33, 32, 34, 37, 35, 38, 36, 39], 'sadness': [40, 42, 41, -1, 43, 44, 45, 47, 48, 46, 49, 50, 51], 'anger': [-1, 52, 65, 62, 53, 54, 55, 56, 57, 58, 59, 60, 61, 63, 64], 'disgust': [66, -1, 67, 68, 69, 76, 70, 71, 72, 75, 73, 74, 77, 78, 79, 80, 81]}\n",
            "PCA DBSCAN Implementado\n",
            "{'happy': [0, 1, 2, 3, 4, 7, 5, 6, 8, 9, 10, 11, 12], 'contempt': [14, 13, 16, 15, 0, 17, 20, 18, 19, 21, 22], 'fear': [0, 23, 24, 25, 27, 26], 'surprise': [0, 28, 29, 32, 30, 31, 34, 33, 35, 38, 36, 39, 37, 40], 'sadness': [41, 43, 42, 0, 44, 45, 46, 48, 49, 47, 50, 51, 52], 'anger': [0, 53, 66, 63, 54, 55, 56, 57, 58, 59, 60, 61, 62, 64, 65], 'disgust': [67, 0, 68, 69, 70, 77, 71, 72, 73, 76, 74, 75, 78, 79, 80, 81, 82]}\n",
            "IMPLEMENTADO\n",
            "      Silhouette  Homogeneidad      Rand  Adjust Rand  \\\n",
            "PCA   -0.266614      0.277954  0.480678     0.038271   \n",
            "\n",
            "     Adjust Mutual Information  \n",
            "PCA                   0.176571  \n",
            "LIBRERIA\n",
            "      Silhouette  Homogeneidad      Rand  Adjust Rand  \\\n",
            "PCA   -0.266614      0.277954  0.480678     0.038271   \n",
            "\n",
            "     Adjust Mutual Information  \n",
            "PCA                   0.176571  \n"
          ]
        }
      ],
      "source": [
        "\n",
        "for i in range(2,4):\n",
        "    random.seed(42)\n",
        "    dbscan_pca = DBSCAN(eps= 100,min_samples= i, n_jobs=-1)\n",
        "    dbscan_model_pca = DBSCANClustering(eps= 100, min_samples= i)\n",
        "    dbscan_pca.fit(X)\n",
        "    dbscan_model_pca.fit(X)\n",
        "    predict_dbscan_pca = dbscan_pca.labels_\n",
        "    predict_dbscan_model_pca = dbscan_model_pca.labels_\n",
        "    print(\"PCA DBSCAN sklearn\")\n",
        "    printCluster(target, predict_dbscan_pca)\n",
        "    print(\"PCA DBSCAN Implementado\")\n",
        "    printCluster(target, predict_dbscan_model_pca)\n",
        "    print(\"IMPLEMENTADO\\n\",get_score(labels_true, predict_dbscan_model_pca,X))\n",
        "    print(\"LIBRERIA\\n\",get_score(labels_true, predict_dbscan_pca,X))"
      ]
    },
    {
      "attachments": {},
      "cell_type": "markdown",
      "metadata": {},
      "source": [
        "#### GMM"
      ]
    },
    {
      "cell_type": "code",
      "execution_count": 212,
      "metadata": {},
      "outputs": [],
      "source": [
        "class GMMClustering(Clustering):\n",
        "    def __init__(self, n_components=7):\n",
        "        self.n_components = n_components\n",
        "        print(\"GMMClustering: \",self.n_components)\n",
        "    \n",
        "    def parameters(self, X, n_gaussians):\n",
        "        n, features = X.shape\n",
        "        kmeans = KMeans(n_clusters=n_gaussians).fit(X)\n",
        "        means = kmeans.cluster_centers_\n",
        "        labels = kmeans.labels_\n",
        "        mixing_coefficients = np.zeros(n_gaussians)\n",
        "        covariance = np.zeros((n_gaussians, features, features))\n",
        "        for i in range(n_gaussians):\n",
        "            X_i = X[labels == i]\n",
        "            mixing_coefficients[i] = len(X_i) / n\n",
        "            covariance[i] = np.cov(X_i.T) + np.eye(features) * 1e-6 \n",
        "        return mixing_coefficients, means, covariance\n",
        "\n",
        "    def E(self,X,mixing_coefficients,means,covarianzas):\n",
        "        n_samples = X.shape[0]\n",
        "        n_gaussians = len(mixing_coefficients)\n",
        "        log_responsabilidades = np.zeros((n_samples, n_gaussians))\n",
        "        for j in range(n_gaussians):\n",
        "            log_responsabilidades[:, j] = np.log(mixing_coefficients[j]) + multivariate_normal.logpdf(X, mean=means[j], cov=covarianzas[j])\n",
        "        log_responsabilidades -= log_responsabilidades.max(axis=1, keepdims=True)\n",
        "        responsabilidades = np.exp(log_responsabilidades)\n",
        "        responsabilidades /= responsabilidades.sum(axis=1, keepdims=True)\n",
        "        return responsabilidades\n",
        "    \n",
        "    def M(self, X, responsability):\n",
        "            n_samples, features = X.shape\n",
        "            n_components = responsability.shape[1]\n",
        "            pi = responsability.sum(axis=0) / n_samples\n",
        "            means = np.dot(responsability.T, X) / responsability.sum(axis=0)[:, np.newaxis]\n",
        "            covarianzas = np.zeros((n_components, features, features))\n",
        "            for j in range(n_components):\n",
        "                diff = X - means[j]\n",
        "                covarianzas[j] = np.dot(responsability[:, j] * diff.T, diff) / responsability[:, j].sum()\n",
        "                covarianzas[j] += np.eye(features) * 1e-6\n",
        "            return pi, means, covarianzas\n",
        "    \n",
        "    def train_GMM(self,X,n_gaussians,iterations=10):\n",
        "        coeff,means,covarianzas = self.parameters(X,3)\n",
        "        for i in range(n_gaussians):\n",
        "            value = self.E(X,coeff,means,covarianzas)\n",
        "            coeff,means,covarianzas = self.M(X,value)\n",
        "        return coeff,means,covarianzas\n",
        "\n",
        "    def fit(self, X):\n",
        "        self.coeff, self.means, self.covarianzas = self.train_GMM(X, self.n_components)\n",
        "\n",
        "    def predict(self, X):\n",
        "        probabilities = np.zeros((X.shape[0], self.n_components))\n",
        "        for i in range(self.n_components):\n",
        "            probabilities[:, i] = multivariate_normal.pdf(X, mean=self.means[i], cov=self.covarianzas[i])\n",
        "\n",
        "        return np.argmax(probabilities, axis=1)\n",
        " \n",
        "    "
      ]
    },
    {
      "cell_type": "code",
      "execution_count": null,
      "metadata": {},
      "outputs": [
        {
          "name": "stdout",
          "output_type": "stream",
          "text": [
            "GMMClustering:  7\n"
          ]
        },
        {
          "ename": "AttributeError",
          "evalue": "'GMMClustering' object has no attribute 'means'",
          "output_type": "error",
          "traceback": [
            "\u001b[0;31m---------------------------------------------------------------------------\u001b[0m",
            "\u001b[0;31mAttributeError\u001b[0m                            Traceback (most recent call last)",
            "Cell \u001b[0;32mIn[280], line 2\u001b[0m\n\u001b[1;32m      1\u001b[0m gm_pca_model \u001b[39m=\u001b[39m GMMClustering(n_components\u001b[39m=\u001b[39m\u001b[39m7\u001b[39m)\n\u001b[0;32m----> 2\u001b[0m prediction_gm_pca_model \u001b[39m=\u001b[39m gm_pca_model\u001b[39m.\u001b[39;49mpredict(X)\n\u001b[1;32m      3\u001b[0m df_scores_pca \u001b[39m=\u001b[39m get_score(labels_true, prediction_gm_pca, X)\n\u001b[1;32m      4\u001b[0m df_scores_pca\n",
            "Cell \u001b[0;32mIn[212], line 55\u001b[0m, in \u001b[0;36mGMMClustering.predict\u001b[0;34m(self, X)\u001b[0m\n\u001b[1;32m     53\u001b[0m probabilities \u001b[39m=\u001b[39m np\u001b[39m.\u001b[39mzeros((X\u001b[39m.\u001b[39mshape[\u001b[39m0\u001b[39m], \u001b[39mself\u001b[39m\u001b[39m.\u001b[39mn_components))\n\u001b[1;32m     54\u001b[0m \u001b[39mfor\u001b[39;00m i \u001b[39min\u001b[39;00m \u001b[39mrange\u001b[39m(\u001b[39mself\u001b[39m\u001b[39m.\u001b[39mn_components):\n\u001b[0;32m---> 55\u001b[0m     probabilities[:, i] \u001b[39m=\u001b[39m multivariate_normal\u001b[39m.\u001b[39mpdf(X, mean\u001b[39m=\u001b[39m\u001b[39mself\u001b[39;49m\u001b[39m.\u001b[39;49mmeans[i], cov\u001b[39m=\u001b[39m\u001b[39mself\u001b[39m\u001b[39m.\u001b[39mcovarianzas[i])\n\u001b[1;32m     57\u001b[0m \u001b[39mreturn\u001b[39;00m np\u001b[39m.\u001b[39margmax(probabilities, axis\u001b[39m=\u001b[39m\u001b[39m1\u001b[39m)\n",
            "\u001b[0;31mAttributeError\u001b[0m: 'GMMClustering' object has no attribute 'means'"
          ]
        }
      ],
      "source": [
        "gm_pca_model = GMMClustering(n_components=7)\n",
        "prediction_gm_pca_model = gm_pca_model.predict(X)\n",
        "df_scores_pca = get_score(labels_true, prediction_gm_pca_model, X)\n",
        "df_scores_pca"
      ]
    },
    {
      "cell_type": "code",
      "execution_count": 268,
      "metadata": {},
      "outputs": [
        {
          "name": "stdout",
          "output_type": "stream",
          "text": [
            "GMMClustering:  7\n"
          ]
        }
      ],
      "source": [
        "gm_pca_model = GMMClustering(n_components=7)"
      ]
    },
    {
      "cell_type": "code",
      "execution_count": 283,
      "metadata": {},
      "outputs": [
        {
          "name": "stdout",
          "output_type": "stream",
          "text": [
            "{'happy': [0, 1], 'contempt': [0, 1], 'fear': [1, 0], 'surprise': [0, 1], 'sadness': [1, 0], 'anger': [1, 0], 'disgust': [1, 0]}\n",
            "     Silhouette  Homogeneidad      Rand  Adjust Rand  \\\n",
            "PCA    0.328077      0.006957  0.504321     0.008099   \n",
            "\n",
            "     Adjust Mutual Information  \n",
            "PCA                   0.007661  \n",
            "{'happy': [0, 1, 2], 'contempt': [0, 1, 2], 'fear': [2, 0, 1], 'surprise': [0, 1, 2], 'sadness': [1, 0, 2], 'anger': [1, 0, 2], 'disgust': [2, 0, 1]}\n",
            "     Silhouette  Homogeneidad      Rand  Adjust Rand  \\\n",
            "PCA    0.349053      0.017587  0.583378     0.013671   \n",
            "\n",
            "     Adjust Mutual Information  \n",
            "PCA                   0.018266  \n",
            "{'happy': [2, 1, 0, 3], 'contempt': [2, 1, 0, 3], 'fear': [0, 2, 1, 3], 'surprise': [2, 3, 0, 1], 'sadness': [3, 2, 0, 1], 'anger': [1, 2, 0, 3], 'disgust': [0, 2, 1, 3]}\n",
            "     Silhouette  Homogeneidad      Rand  Adjust Rand  \\\n",
            "PCA    0.317097      0.021422  0.612728      0.00412   \n",
            "\n",
            "     Adjust Mutual Information  \n",
            "PCA                   0.019514  \n",
            "{'happy': [4, 2, 0, 3, 1], 'contempt': [4, 2, 1, 0, 3], 'fear': [0, 4, 1, 2, 3], 'surprise': [1, 3, 0, 4, 2], 'sadness': [3, 4, 0, 1, 2], 'anger': [2, 1, 0, 4, 3], 'disgust': [0, 1, 2, 4, 3]}\n",
            "     Silhouette  Homogeneidad      Rand  Adjust Rand  \\\n",
            "PCA    0.255823      0.025331  0.693622     0.011357   \n",
            "\n",
            "     Adjust Mutual Information  \n",
            "PCA                   0.019964  \n",
            "{'happy': [3, 4, 0, 1, 2, 5], 'contempt': [3, 4, 2, 0, 5, 1], 'fear': [0, 3, 2, 5, 4, 1], 'surprise': [2, 1, 0, 3, 4, 5], 'sadness': [1, 5, 0, 2, 3, 4], 'anger': [4, 2, 0, 5, 1, 3], 'disgust': [0, 2, 4, 5, 3, 1]}\n",
            "     Silhouette  Homogeneidad      Rand  Adjust Rand  \\\n",
            "PCA    0.228482      0.035562  0.714155     0.019452   \n",
            "\n",
            "     Adjust Mutual Information  \n",
            "PCA                   0.027828  \n",
            "{'happy': [2, 3, 6, 0, 1, 4, 5], 'contempt': [2, 3, 4, 5, 6, 1, 0], 'fear': [6, 2, 1, 4, 5, 3, 0], 'surprise': [4, 0, 6, 1, 2, 3, 5], 'sadness': [0, 2, 5, 4, 6, 3], 'anger': [3, 4, 6, 1, 0, 2, 5], 'disgust': [6, 5, 4, 3, 2, 0, 1]}\n",
            "     Silhouette  Homogeneidad      Rand  Adjust Rand  \\\n",
            "PCA    0.239741      0.057569  0.732876     0.028063   \n",
            "\n",
            "     Adjust Mutual Information  \n",
            "PCA                    0.04677  \n"
          ]
        }
      ],
      "source": [
        "for i in range(2,8):\n",
        "    gm_pca = GaussianMixture(n_components=i)\n",
        "    gm_pca.fit(X)\n",
        "    prediction_gm_pca = gm_pca.predict(X)\n",
        "    printCluster(target, prediction_gm_pca)\n",
        "    df_scores_pca = get_score(labels_true, prediction_gm_pca, X)\n",
        "    print(df_scores_pca)"
      ]
    },
    {
      "cell_type": "code",
      "execution_count": 316,
      "metadata": {},
      "outputs": [
        {
          "name": "stdout",
          "output_type": "stream",
          "text": [
            "{'happy': [5, 6, 1, 4, 0, 2, 3], 'contempt': [3, 1, 2, 4, 5, 0], 'fear': [6, 0, 5, 4, 2, 1, 3], 'surprise': [3, 2, 1, 4, 5, 6, 0], 'sadness': [3, 2, 1, 0, 5, 4, 6], 'anger': [1, 3, 2, 6, 5, 0, 4], 'disgust': [1, 2, 4, 6, 3, 5, 0]}\n",
            "     Silhouette  Homogeneidad      Rand  Adjust Rand  \\\n",
            "PCA     0.22542      0.048819  0.728854     0.022237   \n",
            "\n",
            "     Adjust Mutual Information  \n",
            "PCA                   0.038247  \n"
          ]
        }
      ],
      "source": [
        "gm_pca = GaussianMixture(n_components=7)\n",
        "gm_pca.fit(X)\n",
        "prediction_gm_pca = gm_pca.predict(X)\n",
        "printCluster(target, prediction_gm_pca)\n",
        "df_scores_pca = get_score(labels_true, prediction_gm_pca, X)\n",
        "print(df_scores_pca)"
      ]
    },
    {
      "cell_type": "code",
      "execution_count": 317,
      "metadata": {},
      "outputs": [
        {
          "data": {
            "text/plain": [
              "<matplotlib.legend.Legend at 0x148f11390>"
            ]
          },
          "execution_count": 317,
          "metadata": {},
          "output_type": "execute_result"
        },
        {
          "data": {
            "image/png": "[encoded data removed]",
            "text/plain": [
              "<Figure size 640x480 with 1 Axes>"
            ]
          },
          "metadata": {},
          "output_type": "display_data"
        }
      ],
      "source": [
        "probs = gm_pca.predict_proba(X).round(3)\n",
        "labels = gm_pca.fit(X).predict(X)\n",
        "colors = ListedColormap(['r','b','g','tab:orange','tab:purple','tab:brown','tab:pink'])\n",
        "size = 50 * probs.max(1) ** 2  # square emphasizes differences\n",
        "types = [\"happy\",\"contempt\",\"fear\",\"surprise\",\"sadness\",\"anger\",\"disgust\"]\n",
        "scatter = plt.scatter(X[:, 0], X[:, 1], c=labels, s=size,marker=\"x\",cmap=colors)\n",
        "plt.legend(handles=scatter.legend_elements()[0], labels=types,loc='upper right')\n"
      ]
    },
    {
      "cell_type": "code",
      "execution_count": 216,
      "metadata": {},
      "outputs": [
        {
          "name": "stdout",
          "output_type": "stream",
          "text": [
            "KMeansClustering:  8\n",
            "GMMClustering:  8\n"
          ]
        }
      ],
      "source": [
        "kmeans = KMeansClustering(X,n_clusters=8)\n",
        "dbscan = DBSCANClustering(eps=0.5, min_samples=5)\n",
        "gmm = GMMClustering(n_components=8)\n"
      ]
    },
    {
      "cell_type": "code",
      "execution_count": null,
      "metadata": {},
      "outputs": [
        {
          "data": {
            "image/png": "[encoded data removed]",
            "text/plain": [
              "<Figure size 640x480 with 1 Axes>"
            ]
          },
          "metadata": {},
          "output_type": "display_data"
        }
      ],
      "source": [
        "Sum_bic = []\n",
        "Sum_aic = []\n",
        "\n",
        "K = range(1,10)\n",
        "for k in K:\n",
        "    gmm = GaussianMixture(n_components=k)\n",
        "    gmm = gmm.fit(X)\n",
        "    Sum_bic.append(gmm.bic(X))\n",
        "    Sum_aic.append(gmm.aic(X))\n",
        "    x1 = K\n",
        "y1 = Sum_aic\n",
        "plt.plot(x1, y1, label = \"AIC\")\n",
        "x2 = K\n",
        "y2 = Sum_bic\n",
        "plt.plot(x2, y2, label = \"BIC\")\n",
        "\n",
        "plt.title(\"AIC and BIC for different numbers of k\", fontsize=16, fontweight='bold')\n",
        "plt.xlabel(\"k\")\n",
        "plt.ylabel(\"Information Criterion\")\n",
        "plt.legend(loc='upper right')\n",
        "plt.show()"
      ]
    },
    {
      "cell_type": "code",
      "execution_count": null,
      "metadata": {},
      "outputs": [],
      "source": []
    }
  ],
  "metadata": {
    "colab": {
      "provenance": [],
      "toc_visible": true
    },
    "kernelspec": {
      "display_name": "Python 3",
      "name": "python3"
    },
    "language_info": {
      "codemirror_mode": {
        "name": "ipython",
        "version": 3
      },
      "file_extension": ".py",
      "mimetype": "text/x-python",
      "name": "python",
      "nbconvert_exporter": "python",
      "pygments_lexer": "ipython3",
      "version": "3.11.3"
    }
  },
  "nbformat": 4,
  "nbformat_minor": 0
}
