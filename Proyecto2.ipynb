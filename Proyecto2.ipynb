{
  "cells": [
    {
      "attachments": {},
      "cell_type": "markdown",
      "metadata": {
        "id": "YBz0yuzs44vm"
      },
      "source": [
        "# Proyecto 2 \n",
        "### Curso : Inteligencia Artificial\n",
        "### Profesor : Cristian López Del Alamo\n",
        "\n",
        "#### Nombres y Apellidos de Integrantes:\n",
        "\n",
        "##### Integrante 1: Fabrizio Jesús Vásquez Auqui\n",
        "##### Integrante 2: Ignacio Rubio"
      ]
    },
    {
      "attachments": {},
      "cell_type": "markdown",
      "metadata": {
        "id": "7b8IgqBFEbEa"
      },
      "source": [
        "### Librerías"
      ]
    },
    {
      "cell_type": "code",
      "execution_count": 168,
      "metadata": {
        "id": "lP9h8rSVC7A-"
      },
      "outputs": [],
      "source": [
        "import os\n",
        "import numpy as np\n",
        "import pandas as pd\n",
        "import pywt\n",
        "\n",
        "\n",
        "import matplotlib.pyplot as plt\n",
        "from abc import ABCMeta, abstractmethod\n",
        "from skimage.io import imread, imshow\n",
        "\n",
        "# Utilidades\n",
        "from sklearn.preprocessing import StandardScaler  # to standardize the features\n",
        "from sklearn.preprocessing import MinMaxScaler\n",
        "import seaborn as sns\n",
        "from sklearn.metrics.pairwise import euclidean_distances\n",
        "from matplotlib.colors import ListedColormap\n",
        "from sklearn.metrics import silhouette_score, rand_score, adjusted_mutual_info_score, adjusted_rand_score, homogeneity_score, completeness_score, v_measure_score\n",
        "from sklearn.metrics.cluster import homogeneity_score\n",
        "from scipy.stats import multivariate_normal\n",
        "import glob\n",
        "\n",
        "# Librarías de modelos usados\n",
        "from sklearn.decomposition import PCA\n",
        "from sklearn.cluster import KMeans\n",
        "from sklearn.cluster import DBSCAN\n",
        "from sklearn.mixture import GaussianMixture\n",
        "from sklearn.neighbors import KDTree\n",
        "\n",
        "import random\n"
      ]
    },
    {
      "cell_type": "code",
      "execution_count": 169,
      "metadata": {
        "colab": {
          "base_uri": "https://localhost:8080/"
        },
        "id": "iVzL9iV9E5C5",
        "outputId": "26e31ad4-1c05-4568-aeaa-78fa0f07cb9a"
      },
      "outputs": [],
      "source": [
        "path = \"./data/CK+48/\""
      ]
    },
    {
      "cell_type": "code",
      "execution_count": 170,
      "metadata": {},
      "outputs": [],
      "source": [
        "def printCluster(target, prediction):\n",
        "    cluster_element = {}\n",
        "    for i, element in zip(target, list(prediction)):\n",
        "        if i not in cluster_element:\n",
        "            cluster_element[i] =[element]\n",
        "        else:\n",
        "            if element not in cluster_element[i]:\n",
        "                cluster_element[i].append(element)\n",
        "    print(cluster_element)"
      ]
    },
    {
      "attachments": {},
      "cell_type": "markdown",
      "metadata": {
        "id": "H1IJ1CGMEZ33"
      },
      "source": [
        "#### Base de datos de Emociones\n",
        "\n"
      ]
    },
    {
      "attachments": {},
      "cell_type": "markdown",
      "metadata": {
        "id": "rGT88RrEO-mw"
      },
      "source": [
        "##### Función para obtener los vectores característicos y PCA"
      ]
    },
    {
      "cell_type": "code",
      "execution_count": 204,
      "metadata": {
        "colab": {
          "base_uri": "https://localhost:8080/"
        },
        "id": "qw_soijiR7zr",
        "outputId": "1999451f-b2f5-4ea4-9d7b-d4b09d4990c5"
      },
      "outputs": [
        {
          "data": {
            "text/plain": [
              "144"
            ]
          },
          "execution_count": 204,
          "metadata": {},
          "output_type": "execute_result"
        }
      ],
      "source": [
        "content = os.listdir(path)\n",
        "\n",
        "def feature_vector(picture, cortes):\n",
        "  LL = picture\n",
        "  for i in range(cortes):\n",
        "    LL, (LH, HL, HH) = pywt.dwt2(LL, 'haar')\n",
        "     #LL = LL/255\n",
        "  #return LL.flatten()\n",
        "  return LL.flatten()\n",
        "\n",
        "def transform(img,n_components_=0.9999999):\n",
        "  #scalar = MinMaxScaler()\n",
        "  #img_scaled = scalar.fit_transform(img)\n",
        "  pca_model = PCA(n_components=n_components_)\n",
        "  pca_model.fit(img)\n",
        "  transform_img = pca_model.transform(img)\n",
        "  #projection = img_pca.inverse_transform(tranform_img)\n",
        "  #plt.imshow(projection, cmap='gray')\n",
        "  #print(transform_img.shape)\n",
        "  return transform_img\n",
        "\n",
        "def imagen_feature_vector(image_path):\n",
        "  picture = imread(image_path)\n",
        "  # len of feature vector = dim_1(picture)*dim_2(picture) / 4^cortes\n",
        "  # len_feature_vector = dim_n(picure)/ 4^cortes\n",
        "  # reduction_feature_vector = transform(picture)\n",
        "  img = feature_vector(picture,2)\n",
        "  coefficients_matrix = np.stack(img)\n",
        "  data = coefficients_matrix.reshape(coefficients_matrix.shape[0], -1)\n",
        "\n",
        "  #print(data.shape)\n",
        "\n",
        "  img_pca = transform(data)\n",
        "  #converted_img = img_pca.fit_transform(img)\n",
        "  return img_pca.flatten()\n",
        "\n",
        "  \n",
        "# 48 * 48\n",
        "#len(imread('./data/CK+48/anger/S010_004_00000017.png'))\n",
        "#transform(imread('./data/CK+48/anger/S010_004_00000017.png'))\n",
        "#imagen_feature_vector('./data/CK+48/anger/S010_004_00000017.png')\n",
        "len(imagen_feature_vector('./data/CK+48/anger/S010_004_00000017.png'))\n"
      ]
    },
    {
      "attachments": {},
      "cell_type": "markdown",
      "metadata": {},
      "source": []
    },
    {
      "attachments": {},
      "cell_type": "markdown",
      "metadata": {
        "id": "OQW50feBTlLv"
      },
      "source": [
        "La imagen ha sido redimensionada mediante la Transformada Wavelet Discreta, en el cual el numero de dimensiones de nuestro vector caracterisrico dependera del numero de cortes"
      ]
    },
    {
      "cell_type": "code",
      "execution_count": 205,
      "metadata": {
        "colab": {
          "base_uri": "https://localhost:8080/"
        },
        "id": "rObosj3hR9qE",
        "outputId": "f43bc19f-064d-4c99-d294-70ec70dc4323"
      },
      "outputs": [
        {
          "data": {
            "text/plain": [
              "array([-2.77411458e+02, -2.64911458e+02, -2.96911458e+02, -2.79411458e+02,\n",
              "        1.08854167e+00,  2.32338542e+02,  3.06338542e+02,  1.76338542e+02,\n",
              "       -9.84114583e+01, -3.03661458e+02, -3.10911458e+02, -2.34114583e+01,\n",
              "       -2.79661458e+02, -2.70411458e+02, -3.08411458e+02, -1.51614583e+01,\n",
              "        2.21838542e+02,  2.82088542e+02,  3.18588542e+02,  3.03838542e+02,\n",
              "        1.34088542e+02, -1.61661458e+02, -2.97911458e+02, -2.91411458e+02,\n",
              "       -2.76161458e+02, -2.85161458e+02, -2.14661458e+02,  1.37338542e+02,\n",
              "        2.41338542e+02,  2.08838542e+02,  2.80838542e+02,  2.50088542e+02,\n",
              "        1.97588542e+02, -3.89114583e+01, -2.78661458e+02, -3.28411458e+02,\n",
              "       -2.76661458e+02, -2.70161458e+02, -1.26411458e+02, -2.51614583e+01,\n",
              "       -4.26614583e+01,  5.33854167e+00, -5.41614583e+01, -8.41614583e+01,\n",
              "        9.18385417e+01,  4.33854167e+00, -2.26161458e+02, -3.23911458e+02,\n",
              "       -1.58411458e+02, -2.80661458e+02, -1.55161458e+02, -2.07911458e+02,\n",
              "       -2.77911458e+02,  9.78385417e+01, -1.53661458e+02, -2.68661458e+02,\n",
              "       -2.18661458e+02, -1.06911458e+02, -1.61661458e+02, -2.91911458e+02,\n",
              "        4.93385417e+01, -2.73911458e+02, -1.41661458e+02, -7.36614583e+01,\n",
              "        5.65885417e+01,  4.28338542e+02,  1.65088542e+02,  2.70885417e+01,\n",
              "       -1.54114583e+01,  7.05885417e+01, -9.26614583e+01, -1.90411458e+02,\n",
              "        3.11838542e+02, -7.51614583e+01,  1.57088542e+02,  2.97588542e+02,\n",
              "        2.41838542e+02,  4.78088542e+02,  2.89338542e+02,  2.88588542e+02,\n",
              "        2.91088542e+02,  1.74588542e+02,  1.58854167e+00,  1.10088542e+02,\n",
              "        8.65885417e+01,  2.93385417e+01,  1.98838542e+02,  2.64088542e+02,\n",
              "        1.89088542e+02,  1.39338542e+02,  7.45885417e+01,  1.61588542e+02,\n",
              "        1.77588542e+02,  8.48385417e+01, -8.46614583e+01,  3.01838542e+02,\n",
              "       -2.54161458e+02, -1.92411458e+02,  1.55588542e+02,  1.85338542e+02,\n",
              "        2.68338542e+02, -9.21614583e+01, -1.20161458e+02,  1.80838542e+02,\n",
              "        1.32588542e+02,  3.18385417e+01, -2.00661458e+02, -1.76661458e+02,\n",
              "       -2.35911458e+02, -2.78411458e+02,  7.38385417e+01,  1.06838542e+02,\n",
              "        5.93385417e+01, -3.41145833e+00, -4.04114583e+01,  5.85885417e+01,\n",
              "        1.20885417e+01, -4.11458333e-01, -2.90661458e+02, -3.15661458e+02,\n",
              "        3.66588542e+02,  4.02588542e+02,  1.37838542e+02, -6.09114583e+01,\n",
              "        2.33385417e+01, -7.41614583e+01, -1.34661458e+02, -5.59114583e+01,\n",
              "       -9.91614583e+01, -5.96614583e+01, -9.66145833e+00,  1.67838542e+02,\n",
              "        5.77338542e+02,  5.58088542e+02,  3.05338542e+02, -5.96614583e+01,\n",
              "       -6.51614583e+01, -1.43661458e+02, -1.45911458e+02, -1.48411458e+02,\n",
              "       -1.36161458e+02, -3.91614583e+01,  2.64088542e+02,  2.86838542e+02])"
            ]
          },
          "execution_count": 205,
          "metadata": {},
          "output_type": "execute_result"
        }
      ],
      "source": [
        "imagen_feature_vector('./data/CK+48/anger/S010_004_00000017.png')"
      ]
    },
    {
      "attachments": {},
      "cell_type": "markdown",
      "metadata": {
        "id": "rNk0TV43T3l5"
      },
      "source": [
        "##### Función para cargar imágenes"
      ]
    },
    {
      "cell_type": "code",
      "execution_count": 206,
      "metadata": {},
      "outputs": [],
      "source": [
        "# Cantidad de imagenes en cada carpeta\n",
        "# anger:\n",
        "# contempt: \n",
        "# disgust: \n",
        "# fear: \n",
        "# happy: \n",
        "# sadness:\n",
        "# suprise: "
      ]
    },
    {
      "cell_type": "code",
      "execution_count": 207,
      "metadata": {
        "id": "f8c6hLaCO9g7"
      },
      "outputs": [],
      "source": [
        "def feature_vector_load_images(folder):\n",
        "  dicc = {}\n",
        "  name_images = []\n",
        "  feature_vector_val = []\n",
        "  with os.scandir(path) as ficheros:\n",
        "      for fichero in ficheros:\n",
        "          if(fichero.name != \".DS_Store\"):\n",
        "            name_images.append(fichero.name)\n",
        "            #dicc[fichero.name] = imagen_feature_vector(path+fichero.name)\n",
        "            for name_image in os.scandir(fichero.path):\n",
        "               #print(name_image.path,name_image.name)\n",
        "               if(name_image.name not in dicc):\n",
        "                dicc[name_image.path] = imagen_feature_vector(name_image.path)\n",
        "                feature_vector_val.append(imagen_feature_vector(name_image.path))\n",
        "                #print(imagen_feature_vector(name_image.path).shape)\n",
        "                #dicc[name_image.path] = fichero.name\n",
        "\n",
        "  return feature_vector_val\n",
        "\n",
        "def complete(data):\n",
        "  longitud_maxima = max(len(secuencia) for secuencia in data)\n",
        "  # Realiza relleno (padding) para igualar la longitud de las secuencias\n",
        "  datos_rellenados = []\n",
        "  for secuencia in data:\n",
        "      diferencia_longitud = longitud_maxima - len(secuencia)\n",
        "      secuencia_rellenada = np.pad(secuencia, (0, diferencia_longitud), mode='constant')\n",
        "      datos_rellenados.append(secuencia_rellenada)\n",
        "  return np.array(datos_rellenados)\n",
        "\n",
        "X = feature_vector_load_images(path) \n",
        "#complete_list_vectores_images = complete(list_vectores_images)\n",
        "#images = np.concatenate(list_vectores_images) \n",
        "#type(images)\n",
        "#X[0].shape\n"
      ]
    },
    {
      "cell_type": "code",
      "execution_count": 208,
      "metadata": {},
      "outputs": [
        {
          "data": {
            "text/plain": [
              "(981, 144)"
            ]
          },
          "execution_count": 208,
          "metadata": {},
          "output_type": "execute_result"
        }
      ],
      "source": [
        "X = np.array(X)\n",
        "X.shape"
      ]
    },
    {
      "attachments": {},
      "cell_type": "markdown",
      "metadata": {},
      "source": [
        "### Contar y guardar la cantidad de imagenes por tipo"
      ]
    },
    {
      "attachments": {},
      "cell_type": "markdown",
      "metadata": {},
      "source": [
        "#### Análisis exploratorio de los datos"
      ]
    },
    {
      "cell_type": "code",
      "execution_count": 209,
      "metadata": {},
      "outputs": [
        {
          "data": {
            "text/plain": [
              "surprise    25.38\n",
              "happy       21.10\n",
              "disgust     18.04\n",
              "anger       13.76\n",
              "sadness      8.56\n",
              "fear         7.65\n",
              "contempt     5.50\n",
              "Name: type, dtype: float64"
            ]
          },
          "execution_count": 209,
          "metadata": {},
          "output_type": "execute_result"
        }
      ],
      "source": [
        "# Guardando informacion de los tipos de imagenes en un dataframe para analizar\n",
        "#count_images = 1\n",
        "#dicc_images = {}\n",
        "#for i,j in images.items():\n",
        "#   dicc_images[count_images]= j\n",
        "#   count_images += 1\n",
        "\n",
        "#df_types = pd.DataFrame(dicc_images.items(), columns=['id', 'type'])\n",
        "#df_types.to_csv('./data/data.csv', index=False, header=True, sep=',')\n",
        "\n",
        "# Leer datos del csv exportado previamente\n",
        "df_types = pd.read_csv('./data/data.csv')\n",
        "target = np.array(df_types['type']).T\n",
        "# Porcentaje de imagenes por tipo\n",
        "\n",
        "\n",
        "label_num = {\"happy\": 0, \"contempt\" : 1, \"fear\" : 2, \"surprise\" : 3, \"sadness\" : 4, \"anger\" : 5, \"disgust\" : 6}\n",
        "#label_num = {\"anger\": 0, \"contempt\" : 1, \"disgust\" : 2, \"fear\" : 3, \"happy\" : 4, \"sadness\" : 5, \"surprise\" : 6}\n",
        "y = list(df_types.iloc[:, 1])\n",
        "labels_true = [label_num[e] for e in y]\n",
        "\n",
        "(100 * df_types['type'].value_counts() / len(df_types['type'])).round(2)\n"
      ]
    },
    {
      "cell_type": "code",
      "execution_count": 210,
      "metadata": {},
      "outputs": [
        {
          "data": {
            "text/plain": [
              "Text(0, 0.5, 'Cantidad de imagenes')"
            ]
          },
          "execution_count": 210,
          "metadata": {},
          "output_type": "execute_result"
        },
        {
          "data": {
            "image/png": "[encoded data removed]",
            "text/plain": [
              "<Figure size 640x480 with 1 Axes>"
            ]
          },
          "metadata": {},
          "output_type": "display_data"
        }
      ],
      "source": [
        "#df_types['type'].value_counts().plot(kind='bar',title='imagenes')\n",
        "sns.histplot(data=df_types, x=\"type\")\n",
        "plt.xlabel('Tipo de imagen')\n",
        "plt.ylabel('Cantidad de imagenes')"
      ]
    },
    {
      "attachments": {},
      "cell_type": "markdown",
      "metadata": {},
      "source": [
        "### Clase de Clustering"
      ]
    },
    {
      "cell_type": "code",
      "execution_count": 197,
      "metadata": {},
      "outputs": [],
      "source": [
        "class Clustering(metaclass=ABCMeta):\n",
        "    pass"
      ]
    },
    {
      "attachments": {},
      "cell_type": "markdown",
      "metadata": {},
      "source": [
        "#### Kmeans"
      ]
    },
    {
      "cell_type": "code",
      "execution_count": 179,
      "metadata": {},
      "outputs": [],
      "source": [
        "class KMeansClustering(Clustering):\n",
        "    def __init__(self,data, n_clusters=7,n_iter = 1000):\n",
        "        self.data = data\n",
        "        self.n_clusters = n_clusters\n",
        "        self.n_iter = n_iter\n",
        "        print(\"KMeansClustering: \",self.n_clusters)\n",
        "        \n",
        "    def init_centroide(self,data):\n",
        "        centroides = data[np.random.choice(data.shape[0], self.n_clusters, replace=False),:]\n",
        "        return centroides   \n",
        "    \n",
        "    def get_min_distance(self,data,centroide):\n",
        "        index = []\n",
        "        for row in data:\n",
        "            index.append(np.argmin(euclidean_distances(centroide,[row])))\n",
        "        return index\n",
        "    \n",
        "    def get_means(self,data,grupos,n):\n",
        "        centroides = []\n",
        "        for i in range(n):\n",
        "            array = [data[j] for j, k in enumerate(grupos) if i == k]\n",
        "            centroides.append(np.sum(array, axis = 0) / len(array))\n",
        "        return centroides\n",
        "    \n",
        "    def kmean(self,):\n",
        "        centroides = self.init_centroide(self.data) # Selecciona k centroides\n",
        "        grupos = None\n",
        "        for i in range(self.n_iter):\n",
        "            grupos = self.get_min_distance(self.data, centroides)\n",
        "            temp =  self.get_means(self.data, grupos, self.n_clusters)\n",
        "            diff = np.array(centroides) - np.array(temp)\n",
        "            centroides = temp\n",
        "        return centroides, grupos\n",
        "\n"
      ]
    },
    {
      "cell_type": "code",
      "execution_count": null,
      "metadata": {},
      "outputs": [],
      "source": []
    },
    {
      "cell_type": "code",
      "execution_count": 180,
      "metadata": {},
      "outputs": [],
      "source": [
        "def get_score(labels_true, prediction_pca, X_pca):\n",
        "    scores = {\n",
        "        \"PCA\": np.array([silhouette_score(X_pca, prediction_pca),\n",
        "        homogeneity_score(labels_true, prediction_pca), \n",
        "        rand_score(labels_true, prediction_pca),\n",
        "        adjusted_rand_score(labels_true, prediction_pca), \n",
        "        adjusted_mutual_info_score(labels_true, prediction_pca)]), \n",
        "    }\n",
        "    df = pd.DataFrame.from_dict(scores, orient = \"index\", columns=[\"Silhouette\",\"Homogeneidad\", \"Rand\", \"Adjust Rand\", \"Adjust Mutual Information\"])\n",
        "    return df"
      ]
    },
    {
      "cell_type": "code",
      "execution_count": 181,
      "metadata": {},
      "outputs": [
        {
          "name": "stderr",
          "output_type": "stream",
          "text": [
            "/opt/homebrew/lib/python3.11/site-packages/sklearn/cluster/_kmeans.py:870: FutureWarning: The default value of `n_init` will change from 10 to 'auto' in 1.4. Set the value of `n_init` explicitly to suppress the warning\n",
            "  warnings.warn(\n"
          ]
        },
        {
          "name": "stdout",
          "output_type": "stream",
          "text": [
            "KMeansClustering:  7\n",
            "PCA Kmeans sklearn\n",
            "{'happy': [2, 6, 4, 0, 5, 3, 1], 'contempt': [2, 0, 6, 3, 1, 4, 5], 'fear': [4, 2, 5, 3, 1, 6, 0], 'surprise': [5, 0, 4, 2, 6, 1, 3], 'sadness': [0, 2, 1, 3, 4, 6], 'anger': [6, 3, 4, 5, 0, 2, 1], 'disgust': [4, 1, 3, 6, 2, 0, 5]}\n",
            "PCA Kmeans Implementado\n",
            "{'happy': [4, 3, 6, 2, 1, 5, 0], 'contempt': [4, 3, 5, 6, 2, 1, 0], 'fear': [6, 4, 2, 5, 1, 3], 'surprise': [2, 3, 6, 4, 5, 1, 0], 'sadness': [3, 1, 6, 5, 4, 0, 2], 'anger': [3, 5, 6, 2, 1, 0, 4], 'disgust': [6, 5, 3, 1, 4, 2, 0]}\n"
          ]
        }
      ],
      "source": [
        "kmeans_pca = KMeans(n_clusters=7, random_state= 42)\n",
        "kmeans_pca.fit(X)\n",
        "kmeans_model = KMeansClustering(X, n_clusters=7,n_iter = 1000)\n",
        "centroides_pca, labels_impl = kmeans_model.kmean()\n",
        "prediction_kmeans = kmeans_pca.predict(X)\n",
        "print(\"PCA Kmeans sklearn\")\n",
        "printCluster(target, prediction_kmeans)\n",
        "print(\"PCA Kmeans Implementado\")\n",
        "printCluster(target, labels_impl)\n"
      ]
    },
    {
      "cell_type": "code",
      "execution_count": 182,
      "metadata": {},
      "outputs": [
        {
          "data": {
            "text/html": [
              "<div>\n",
              "<style scoped>\n",
              "    .dataframe tbody tr th:only-of-type {\n",
              "        vertical-align: middle;\n",
              "    }\n",
              "\n",
              "    .dataframe tbody tr th {\n",
              "        vertical-align: top;\n",
              "    }\n",
              "\n",
              "    .dataframe thead th {\n",
              "        text-align: right;\n",
              "    }\n",
              "</style>\n",
              "<table border=\"1\" class=\"dataframe\">\n",
              "  <thead>\n",
              "    <tr style=\"text-align: right;\">\n",
              "      <th></th>\n",
              "      <th>Silhouette</th>\n",
              "      <th>Homogeneidad</th>\n",
              "      <th>Rand</th>\n",
              "      <th>Adjust Rand</th>\n",
              "      <th>Adjust Mutual Information</th>\n",
              "    </tr>\n",
              "  </thead>\n",
              "  <tbody>\n",
              "    <tr>\n",
              "      <th>PCA</th>\n",
              "      <td>0.235449</td>\n",
              "      <td>0.048184</td>\n",
              "      <td>0.710824</td>\n",
              "      <td>0.035773</td>\n",
              "      <td>0.038725</td>\n",
              "    </tr>\n",
              "  </tbody>\n",
              "</table>\n",
              "</div>"
            ],
            "text/plain": [
              "     Silhouette  Homogeneidad      Rand  Adjust Rand  \\\n",
              "PCA    0.235449      0.048184  0.710824     0.035773   \n",
              "\n",
              "     Adjust Mutual Information  \n",
              "PCA                   0.038725  "
            ]
          },
          "execution_count": 182,
          "metadata": {},
          "output_type": "execute_result"
        }
      ],
      "source": [
        "df = get_score(labels_true, labels_impl,X)\n",
        "df"
      ]
    },
    {
      "cell_type": "code",
      "execution_count": 183,
      "metadata": {},
      "outputs": [
        {
          "data": {
            "text/html": [
              "<div>\n",
              "<style scoped>\n",
              "    .dataframe tbody tr th:only-of-type {\n",
              "        vertical-align: middle;\n",
              "    }\n",
              "\n",
              "    .dataframe tbody tr th {\n",
              "        vertical-align: top;\n",
              "    }\n",
              "\n",
              "    .dataframe thead th {\n",
              "        text-align: right;\n",
              "    }\n",
              "</style>\n",
              "<table border=\"1\" class=\"dataframe\">\n",
              "  <thead>\n",
              "    <tr style=\"text-align: right;\">\n",
              "      <th></th>\n",
              "      <th>Silhouette</th>\n",
              "      <th>Homogeneidad</th>\n",
              "      <th>Rand</th>\n",
              "      <th>Adjust Rand</th>\n",
              "      <th>Adjust Mutual Information</th>\n",
              "    </tr>\n",
              "  </thead>\n",
              "  <tbody>\n",
              "    <tr>\n",
              "      <th>PCA</th>\n",
              "      <td>0.242404</td>\n",
              "      <td>0.05446</td>\n",
              "      <td>0.732058</td>\n",
              "      <td>0.025935</td>\n",
              "      <td>0.043717</td>\n",
              "    </tr>\n",
              "  </tbody>\n",
              "</table>\n",
              "</div>"
            ],
            "text/plain": [
              "     Silhouette  Homogeneidad      Rand  Adjust Rand  \\\n",
              "PCA    0.242404       0.05446  0.732058     0.025935   \n",
              "\n",
              "     Adjust Mutual Information  \n",
              "PCA                   0.043717  "
            ]
          },
          "execution_count": 183,
          "metadata": {},
          "output_type": "execute_result"
        }
      ],
      "source": [
        "df = get_score(labels_true, prediction_kmeans,X)\n",
        "df"
      ]
    },
    {
      "cell_type": "code",
      "execution_count": 184,
      "metadata": {},
      "outputs": [
        {
          "name": "stderr",
          "output_type": "stream",
          "text": [
            "/opt/homebrew/lib/python3.11/site-packages/sklearn/cluster/_kmeans.py:870: FutureWarning: The default value of `n_init` will change from 10 to 'auto' in 1.4. Set the value of `n_init` explicitly to suppress the warning\n",
            "  warnings.warn(\n"
          ]
        },
        {
          "name": "stdout",
          "output_type": "stream",
          "text": [
            "KMeansClustering:  2\n",
            "PCA Kmeans sklearn\n",
            "{'happy': [1, 0], 'contempt': [1, 0], 'fear': [0, 1], 'surprise': [1, 0], 'sadness': [0, 1], 'anger': [0, 1], 'disgust': [0, 1]}\n",
            "PCA Kmeans Implementado\n",
            "{'happy': [0, 1], 'contempt': [0, 1], 'fear': [1, 0], 'surprise': [0, 1], 'sadness': [1, 0], 'anger': [1, 0], 'disgust': [1, 0]}\n",
            "IMPLEMENTADO\n",
            "      Silhouette  Homogeneidad      Rand  Adjust Rand  \\\n",
            "PCA    0.336265      0.009011  0.499965     0.005325   \n",
            "\n",
            "     Adjust Mutual Information  \n",
            "PCA                   0.010665  \n",
            "LIBRERIA\n",
            "      Silhouette  Homogeneidad      Rand  Adjust Rand  \\\n",
            "PCA    0.336173      0.009283  0.500447     0.005789   \n",
            "\n",
            "     Adjust Mutual Information  \n",
            "PCA                   0.011059  \n"
          ]
        },
        {
          "name": "stderr",
          "output_type": "stream",
          "text": [
            "/opt/homebrew/lib/python3.11/site-packages/sklearn/cluster/_kmeans.py:870: FutureWarning: The default value of `n_init` will change from 10 to 'auto' in 1.4. Set the value of `n_init` explicitly to suppress the warning\n",
            "  warnings.warn(\n"
          ]
        },
        {
          "name": "stdout",
          "output_type": "stream",
          "text": [
            "KMeansClustering:  3\n",
            "PCA Kmeans sklearn\n",
            "{'happy': [0, 1, 2], 'contempt': [0, 1, 2], 'fear': [2, 0, 1], 'surprise': [0, 1, 2], 'sadness': [1, 0, 2], 'anger': [1, 0, 2], 'disgust': [2, 0, 1]}\n",
            "PCA Kmeans Implementado\n",
            "{'happy': [0, 2, 1], 'contempt': [0, 2, 1], 'fear': [2, 0, 1], 'surprise': [1, 2, 0], 'sadness': [2, 0, 1], 'anger': [2, 1, 0], 'disgust': [2, 0, 1]}\n",
            "IMPLEMENTADO\n",
            "      Silhouette  Homogeneidad      Rand  Adjust Rand  \\\n",
            "PCA    0.230974      0.013046  0.606794     0.016436   \n",
            "\n",
            "     Adjust Mutual Information  \n",
            "PCA                     0.0122  \n",
            "LIBRERIA\n",
            "      Silhouette  Homogeneidad      Rand  Adjust Rand  \\\n",
            "PCA    0.350402      0.018401  0.583189     0.014176   \n",
            "\n",
            "     Adjust Mutual Information  \n",
            "PCA                   0.019319  \n"
          ]
        },
        {
          "name": "stderr",
          "output_type": "stream",
          "text": [
            "/opt/homebrew/lib/python3.11/site-packages/sklearn/cluster/_kmeans.py:870: FutureWarning: The default value of `n_init` will change from 10 to 'auto' in 1.4. Set the value of `n_init` explicitly to suppress the warning\n",
            "  warnings.warn(\n"
          ]
        },
        {
          "name": "stdout",
          "output_type": "stream",
          "text": [
            "KMeansClustering:  4\n",
            "PCA Kmeans sklearn\n",
            "{'happy': [1, 3, 2, 0], 'contempt': [1, 3, 0, 2], 'fear': [2, 1, 0, 3], 'surprise': [0, 3, 2, 1], 'sadness': [3, 1, 2, 0], 'anger': [3, 0, 2, 1], 'disgust': [2, 0, 3, 1]}\n",
            "PCA Kmeans Implementado\n",
            "{'happy': [0, 1, 3, 2], 'contempt': [0, 1, 2, 3], 'fear': [3, 0, 2, 1], 'surprise': [2, 1, 3, 0], 'sadness': [1, 0, 3, 2], 'anger': [1, 2, 3, 0], 'disgust': [3, 2, 1, 0]}\n",
            "IMPLEMENTADO\n",
            "      Silhouette  Homogeneidad      Rand  Adjust Rand  \\\n",
            "PCA    0.283606      0.023264  0.664522     0.023815   \n",
            "\n",
            "     Adjust Mutual Information  \n",
            "PCA                   0.020918  \n",
            "LIBRERIA\n",
            "      Silhouette  Homogeneidad      Rand  Adjust Rand  \\\n",
            "PCA    0.283296      0.023264  0.664593      0.02386   \n",
            "\n",
            "     Adjust Mutual Information  \n",
            "PCA                   0.020916  \n"
          ]
        },
        {
          "name": "stderr",
          "output_type": "stream",
          "text": [
            "/opt/homebrew/lib/python3.11/site-packages/sklearn/cluster/_kmeans.py:870: FutureWarning: The default value of `n_init` will change from 10 to 'auto' in 1.4. Set the value of `n_init` explicitly to suppress the warning\n",
            "  warnings.warn(\n"
          ]
        },
        {
          "name": "stdout",
          "output_type": "stream",
          "text": [
            "KMeansClustering:  5\n",
            "PCA Kmeans sklearn\n",
            "{'happy': [2, 4, 3, 1, 0], 'contempt': [2, 1, 4, 0, 3], 'fear': [3, 2, 0, 4, 1], 'surprise': [0, 1, 3, 2, 4], 'sadness': [1, 2, 3, 0, 4], 'anger': [4, 0, 3, 2, 1], 'disgust': [3, 0, 4, 2, 1]}\n",
            "PCA Kmeans Implementado\n",
            "{'happy': [3, 4, 2, 1, 0], 'contempt': [3, 4, 0, 2, 1], 'fear': [2, 3, 1, 0, 4], 'surprise': [1, 4, 2, 3, 0], 'sadness': [4, 3, 2, 0, 1], 'anger': [4, 0, 2, 1, 3], 'disgust': [2, 0, 4, 3, 1]}\n",
            "IMPLEMENTADO\n",
            "      Silhouette  Homogeneidad     Rand  Adjust Rand  Adjust Mutual Information\n",
            "PCA    0.261173      0.037096  0.69126     0.031702                   0.032927\n",
            "LIBRERIA\n",
            "      Silhouette  Homogeneidad      Rand  Adjust Rand  \\\n",
            "PCA     0.26297      0.026721  0.693701      0.01224   \n",
            "\n",
            "     Adjust Mutual Information  \n",
            "PCA                   0.021465  \n",
            "KMeansClustering:  6\n"
          ]
        },
        {
          "name": "stderr",
          "output_type": "stream",
          "text": [
            "/opt/homebrew/lib/python3.11/site-packages/sklearn/cluster/_kmeans.py:870: FutureWarning: The default value of `n_init` will change from 10 to 'auto' in 1.4. Set the value of `n_init` explicitly to suppress the warning\n",
            "  warnings.warn(\n"
          ]
        },
        {
          "name": "stdout",
          "output_type": "stream",
          "text": [
            "PCA Kmeans sklearn\n",
            "{'happy': [3, 5, 4, 1, 0, 2], 'contempt': [3, 1, 5, 0, 2, 4], 'fear': [4, 3, 0, 2, 5, 1], 'surprise': [0, 1, 4, 3, 5, 2], 'sadness': [1, 3, 2, 0, 4, 5], 'anger': [5, 0, 4, 3, 1, 2], 'disgust': [4, 2, 0, 5, 3, 1]}\n",
            "PCA Kmeans Implementado\n",
            "{'happy': [0, 3, 1, 4, 5, 2], 'contempt': [0, 4, 3, 5, 2, 1], 'fear': [1, 0, 5, 2, 3, 4], 'surprise': [5, 4, 1, 0, 3, 2], 'sadness': [4, 0, 2, 5, 1, 3], 'anger': [3, 5, 1, 0, 4, 2], 'disgust': [1, 2, 5, 3, 0, 4]}\n",
            "IMPLEMENTADO\n",
            "      Silhouette  Homogeneidad      Rand  Adjust Rand  \\\n",
            "PCA    0.261758       0.03426  0.705007     0.015997   \n",
            "\n",
            "     Adjust Mutual Information  \n",
            "PCA                   0.026787  \n",
            "LIBRERIA\n",
            "      Silhouette  Homogeneidad      Rand  Adjust Rand  \\\n",
            "PCA     0.26206       0.03579  0.705197     0.016447   \n",
            "\n",
            "     Adjust Mutual Information  \n",
            "PCA                   0.028375  \n"
          ]
        },
        {
          "name": "stderr",
          "output_type": "stream",
          "text": [
            "/opt/homebrew/lib/python3.11/site-packages/sklearn/cluster/_kmeans.py:870: FutureWarning: The default value of `n_init` will change from 10 to 'auto' in 1.4. Set the value of `n_init` explicitly to suppress the warning\n",
            "  warnings.warn(\n"
          ]
        },
        {
          "name": "stdout",
          "output_type": "stream",
          "text": [
            "KMeansClustering:  7\n",
            "PCA Kmeans sklearn\n",
            "{'happy': [2, 6, 4, 0, 5, 3, 1], 'contempt': [2, 0, 6, 3, 1, 4, 5], 'fear': [4, 2, 5, 3, 1, 6, 0], 'surprise': [5, 0, 4, 2, 6, 1, 3], 'sadness': [0, 2, 1, 3, 4, 6], 'anger': [6, 3, 4, 5, 0, 2, 1], 'disgust': [4, 1, 3, 6, 2, 0, 5]}\n",
            "PCA Kmeans Implementado\n",
            "{'happy': [0, 6, 5, 1, 2, 4, 3], 'contempt': [0, 1, 6, 3, 5, 2, 4], 'fear': [5, 0, 2, 3, 4, 6, 1], 'surprise': [2, 1, 5, 0, 6, 3, 4], 'sadness': [1, 4, 5, 3, 0, 6, 2], 'anger': [6, 3, 5, 2, 1, 4, 0], 'disgust': [5, 3, 6, 4, 0, 1, 2]}\n",
            "IMPLEMENTADO\n",
            "      Silhouette  Homogeneidad      Rand  Adjust Rand  \\\n",
            "PCA    0.230276      0.045469  0.735253     0.023629   \n",
            "\n",
            "     Adjust Mutual Information  \n",
            "PCA                   0.034628  \n",
            "LIBRERIA\n",
            "      Silhouette  Homogeneidad      Rand  Adjust Rand  \\\n",
            "PCA    0.242404       0.05446  0.732058     0.025935   \n",
            "\n",
            "     Adjust Mutual Information  \n",
            "PCA                   0.043717  \n"
          ]
        }
      ],
      "source": [
        "for i in range(2,8):\n",
        "    random.seed(10)\n",
        "    kmeans_pca = KMeans(n_clusters=i, random_state= 42)\n",
        "    kmeans_pca.fit(X)\n",
        "    kmeans_model = KMeansClustering(X, n_clusters=i,n_iter = 1000)\n",
        "    centroides_pca, labels_impl = kmeans_model.kmean()\n",
        "    prediction_kmeans = kmeans_pca.predict(X)\n",
        "    print(\"PCA Kmeans sklearn\")\n",
        "    printCluster(target, prediction_kmeans)\n",
        "    print(\"PCA Kmeans Implementado\")\n",
        "    printCluster(target, labels_impl)\n",
        "    print(\"IMPLEMENTADO\\n\",get_score(labels_true, labels_impl,X))\n",
        "    print(\"LIBRERIA\\n\",get_score(labels_true, prediction_kmeans,X))"
      ]
    },
    {
      "attachments": {},
      "cell_type": "markdown",
      "metadata": {},
      "source": [
        "#### DBSCAN"
      ]
    },
    {
      "cell_type": "code",
      "execution_count": 56,
      "metadata": {},
      "outputs": [],
      "source": [
        "\n",
        "class DBSCANClustering(Clustering):\n",
        "    def __init__(self, eps=0.5, min_samples=5):\n",
        "        self.eps = eps\n",
        "        self.min_samples = min_samples\n",
        "\n",
        "    def _neighborhood(self, point_id):\n",
        "        dists = np.sqrt(((self.X - self.X[point_id]) ** 2).sum(axis=1))\n",
        "        return np.where(dists <= self.eps)[0]\n",
        "\n",
        "    def fit(self, X):\n",
        "        self.X = X\n",
        "        self.labels_ = -np.ones(X.shape[0], dtype=int)\n",
        "        current_label = 0\n",
        "\n",
        "        for point_id in range(X.shape[0]):\n",
        "            if self.labels_[point_id] != -1:\n",
        "                continue\n",
        "\n",
        "            neighbors = self._neighborhood(point_id)\n",
        "            if neighbors.size < self.min_samples:\n",
        "                self.labels_[point_id] = 0\n",
        "            else:\n",
        "                current_label += 1\n",
        "                self.labels_[point_id] = current_label\n",
        "                self._expand_cluster(current_label, neighbors)\n",
        "\n",
        "        return self\n",
        "\n",
        "    def _expand_cluster(self, current_label, neighbors):\n",
        "        i = 0\n",
        "        while i < neighbors.size:\n",
        "            next_point_id = neighbors[i]\n",
        "\n",
        "            if self.labels_[next_point_id] == 0:\n",
        "                self.labels_[next_point_id] = current_label\n",
        "            elif self.labels_[next_point_id] == -1:\n",
        "                self.labels_[next_point_id] = current_label\n",
        "                next_neighbors = self._neighborhood(next_point_id)\n",
        "                if next_neighbors.size >= self.min_samples:\n",
        "                    neighbors = np.concatenate((neighbors, next_neighbors))\n",
        "\n",
        "            i += 1"
      ]
    },
    {
      "cell_type": "code",
      "execution_count": 57,
      "metadata": {},
      "outputs": [],
      "source": [
        "dbscan_pca = DBSCAN(eps= 100, min_samples= 3)\n",
        "dbscan_model_pca = DBSCANClustering(eps= 100, min_samples= 3)\n",
        "dbscan_pca.fit(X)\n",
        "dbscan_model_pca.fit(X)\n",
        "predict_dbscan_pca = dbscan_pca.labels_\n",
        "predict_dbscan_model_pca = dbscan_model_pca.labels_"
      ]
    },
    {
      "cell_type": "code",
      "execution_count": 58,
      "metadata": {},
      "outputs": [
        {
          "data": {
            "text/html": [
              "<div>\n",
              "<style scoped>\n",
              "    .dataframe tbody tr th:only-of-type {\n",
              "        vertical-align: middle;\n",
              "    }\n",
              "\n",
              "    .dataframe tbody tr th {\n",
              "        vertical-align: top;\n",
              "    }\n",
              "\n",
              "    .dataframe thead th {\n",
              "        text-align: right;\n",
              "    }\n",
              "</style>\n",
              "<table border=\"1\" class=\"dataframe\">\n",
              "  <thead>\n",
              "    <tr style=\"text-align: right;\">\n",
              "      <th></th>\n",
              "      <th>Silhouette</th>\n",
              "      <th>Homogeneidad</th>\n",
              "      <th>Rand</th>\n",
              "      <th>Adjust Rand</th>\n",
              "      <th>Adjust Mutual Information</th>\n",
              "    </tr>\n",
              "  </thead>\n",
              "  <tbody>\n",
              "    <tr>\n",
              "      <th>PCA</th>\n",
              "      <td>-0.333143</td>\n",
              "      <td>0.007675</td>\n",
              "      <td>0.185452</td>\n",
              "      <td>0.002131</td>\n",
              "      <td>0.008752</td>\n",
              "    </tr>\n",
              "  </tbody>\n",
              "</table>\n",
              "</div>"
            ],
            "text/plain": [
              "     Silhouette  Homogeneidad      Rand  Adjust Rand  \\\n",
              "PCA   -0.333143      0.007675  0.185452     0.002131   \n",
              "\n",
              "     Adjust Mutual Information  \n",
              "PCA                   0.008752  "
            ]
          },
          "execution_count": 58,
          "metadata": {},
          "output_type": "execute_result"
        }
      ],
      "source": [
        "df = get_score(labels_true, predict_dbscan_pca,X)\n",
        "df"
      ]
    },
    {
      "cell_type": "code",
      "execution_count": 59,
      "metadata": {},
      "outputs": [
        {
          "data": {
            "text/html": [
              "<div>\n",
              "<style scoped>\n",
              "    .dataframe tbody tr th:only-of-type {\n",
              "        vertical-align: middle;\n",
              "    }\n",
              "\n",
              "    .dataframe tbody tr th {\n",
              "        vertical-align: top;\n",
              "    }\n",
              "\n",
              "    .dataframe thead th {\n",
              "        text-align: right;\n",
              "    }\n",
              "</style>\n",
              "<table border=\"1\" class=\"dataframe\">\n",
              "  <thead>\n",
              "    <tr style=\"text-align: right;\">\n",
              "      <th></th>\n",
              "      <th>Silhouette</th>\n",
              "      <th>Homogeneidad</th>\n",
              "      <th>Rand</th>\n",
              "      <th>Adjust Rand</th>\n",
              "      <th>Adjust Mutual Information</th>\n",
              "    </tr>\n",
              "  </thead>\n",
              "  <tbody>\n",
              "    <tr>\n",
              "      <th>PCA</th>\n",
              "      <td>-0.333143</td>\n",
              "      <td>0.007675</td>\n",
              "      <td>0.185452</td>\n",
              "      <td>0.002131</td>\n",
              "      <td>0.008752</td>\n",
              "    </tr>\n",
              "  </tbody>\n",
              "</table>\n",
              "</div>"
            ],
            "text/plain": [
              "     Silhouette  Homogeneidad      Rand  Adjust Rand  \\\n",
              "PCA   -0.333143      0.007675  0.185452     0.002131   \n",
              "\n",
              "     Adjust Mutual Information  \n",
              "PCA                   0.008752  "
            ]
          },
          "execution_count": 59,
          "metadata": {},
          "output_type": "execute_result"
        }
      ],
      "source": [
        "df = get_score(labels_true, predict_dbscan_model_pca,X)\n",
        "df"
      ]
    },
    {
      "cell_type": "code",
      "execution_count": 70,
      "metadata": {},
      "outputs": [
        {
          "name": "stdout",
          "output_type": "stream",
          "text": [
            "PCA DBSCAN sklearn\n",
            "{'happy': [-1, 0, 1, 2, 3, 4], 'contempt': [-1, 5, 6, 7, 8], 'fear': [-1, 9, 10, 11], 'surprise': [-1, 12, 13, 14], 'sadness': [-1, 15], 'anger': [-1, 16, 17, 18], 'disgust': [-1, 19, 20]}\n",
            "PCA DBSCAN Implementado\n",
            "{'happy': [0, 1, 2, 3, 4, 5], 'contempt': [0, 6, 7, 8, 9], 'fear': [0, 10, 11, 12], 'surprise': [0, 13, 14, 15], 'sadness': [0, 16], 'anger': [0, 17, 18, 19], 'disgust': [0, 20, 21]}\n",
            "IMPLEMENTADO\n",
            "      Silhouette  Homogeneidad      Rand  Adjust Rand  \\\n",
            "PCA   -0.441916      0.050923  0.237964     0.006909   \n",
            "\n",
            "     Adjust Mutual Information  \n",
            "PCA                   0.037701  \n",
            "LIBRERIA\n",
            "      Silhouette  Homogeneidad      Rand  Adjust Rand  \\\n",
            "PCA   -0.441916      0.050923  0.237964     0.006909   \n",
            "\n",
            "     Adjust Mutual Information  \n",
            "PCA                   0.037701  \n",
            "PCA DBSCAN sklearn\n",
            "{'happy': [-1], 'contempt': [-1], 'fear': [-1, 0], 'surprise': [-1], 'sadness': [-1], 'anger': [-1, 1], 'disgust': [-1]}\n",
            "PCA DBSCAN Implementado\n",
            "{'happy': [0], 'contempt': [0], 'fear': [0, 1], 'surprise': [0], 'sadness': [0], 'anger': [0, 2], 'disgust': [0]}\n",
            "IMPLEMENTADO\n",
            "      Silhouette  Homogeneidad      Rand  Adjust Rand  \\\n",
            "PCA   -0.333143      0.007675  0.185452     0.002131   \n",
            "\n",
            "     Adjust Mutual Information  \n",
            "PCA                   0.008752  \n",
            "LIBRERIA\n",
            "      Silhouette  Homogeneidad      Rand  Adjust Rand  \\\n",
            "PCA   -0.333143      0.007675  0.185452     0.002131   \n",
            "\n",
            "     Adjust Mutual Information  \n",
            "PCA                   0.008752  \n"
          ]
        }
      ],
      "source": [
        "random.seed(10)\n",
        "\n",
        "for i in range(2,4):\n",
        "    dbscan_pca = DBSCAN(eps= 100,min_samples= i)\n",
        "    dbscan_model_pca = DBSCANClustering(eps= 100, min_samples= i)\n",
        "    dbscan_pca.fit(X)\n",
        "    dbscan_model_pca.fit(X)\n",
        "    predict_dbscan_pca = dbscan_pca.labels_\n",
        "    predict_dbscan_model_pca = dbscan_model_pca.labels_\n",
        "    print(\"PCA DBSCAN sklearn\")\n",
        "    printCluster(target, predict_dbscan_pca)\n",
        "    print(\"PCA DBSCAN Implementado\")\n",
        "    printCluster(target, predict_dbscan_model_pca)\n",
        "    print(\"IMPLEMENTADO\\n\",get_score(labels_true, predict_dbscan_model_pca,X))\n",
        "    print(\"LIBRERIA\\n\",get_score(labels_true, predict_dbscan_pca,X))"
      ]
    },
    {
      "attachments": {},
      "cell_type": "markdown",
      "metadata": {},
      "source": [
        "#### GMM"
      ]
    },
    {
      "cell_type": "code",
      "execution_count": 212,
      "metadata": {},
      "outputs": [],
      "source": [
        "class GMMClustering(Clustering):\n",
        "    def __init__(self, n_components=7):\n",
        "        self.n_components = n_components\n",
        "        print(\"GMMClustering: \",self.n_components)\n",
        "    \n",
        "    def parameters(self, X, n_gaussians):\n",
        "        n, features = X.shape\n",
        "        kmeans = KMeans(n_clusters=n_gaussians).fit(X)\n",
        "        means = kmeans.cluster_centers_\n",
        "        labels = kmeans.labels_\n",
        "        mixing_coefficients = np.zeros(n_gaussians)\n",
        "        covariance = np.zeros((n_gaussians, features, features))\n",
        "        for i in range(n_gaussians):\n",
        "            X_i = X[labels == i]\n",
        "            mixing_coefficients[i] = len(X_i) / n\n",
        "            covariance[i] = np.cov(X_i.T) + np.eye(features) * 1e-6 \n",
        "        return mixing_coefficients, means, covariance\n",
        "\n",
        "    def E(self,X,mixing_coefficients,means,covarianzas):\n",
        "        n_samples = X.shape[0]\n",
        "        n_gaussians = len(mixing_coefficients)\n",
        "        log_responsabilidades = np.zeros((n_samples, n_gaussians))\n",
        "        for j in range(n_gaussians):\n",
        "            log_responsabilidades[:, j] = np.log(mixing_coefficients[j]) + multivariate_normal.logpdf(X, mean=means[j], cov=covarianzas[j])\n",
        "        log_responsabilidades -= log_responsabilidades.max(axis=1, keepdims=True)\n",
        "        responsabilidades = np.exp(log_responsabilidades)\n",
        "        responsabilidades /= responsabilidades.sum(axis=1, keepdims=True)\n",
        "        return responsabilidades\n",
        "    \n",
        "    def M(self, X, responsability):\n",
        "            n_samples, features = X.shape\n",
        "            n_components = responsability.shape[1]\n",
        "            pi = responsability.sum(axis=0) / n_samples\n",
        "            means = np.dot(responsability.T, X) / responsability.sum(axis=0)[:, np.newaxis]\n",
        "            covarianzas = np.zeros((n_components, features, features))\n",
        "            for j in range(n_components):\n",
        "                diff = X - means[j]\n",
        "                covarianzas[j] = np.dot(responsability[:, j] * diff.T, diff) / responsability[:, j].sum()\n",
        "                covarianzas[j] += np.eye(features) * 1e-6\n",
        "            return pi, means, covarianzas\n",
        "    \n",
        "    def train_GMM(self,X,n_gaussians,iterations=10):\n",
        "        coeff,means,covarianzas = self.parameters(X,3)\n",
        "        for i in range(n_gaussians):\n",
        "            value = self.E(X,coeff,means,covarianzas)\n",
        "            coeff,means,covarianzas = self.M(X,value)\n",
        "        return coeff,means,covarianzas\n",
        "\n",
        "    def fit(self, X):\n",
        "        self.coeff, self.means, self.covarianzas = self.train_GMM(X, self.n_components)\n",
        "\n",
        "    def predict(self, X):\n",
        "        probabilities = np.zeros((X.shape[0], self.n_components))\n",
        "        for i in range(self.n_components):\n",
        "            probabilities[:, i] = multivariate_normal.pdf(X, mean=self.means[i], cov=self.covarianzas[i])\n",
        "\n",
        "        return np.argmax(probabilities, axis=1)\n",
        " \n",
        "    "
      ]
    },
    {
      "cell_type": "code",
      "execution_count": 213,
      "metadata": {},
      "outputs": [
        {
          "name": "stdout",
          "output_type": "stream",
          "text": [
            "{'happy': [4, 2, 6, 0, 3, 1, 5], 'contempt': [3, 5, 0, 6, 1, 2], 'fear': [4, 0, 3, 5, 2, 1, 6], 'surprise': [1, 3, 5, 2, 4, 0, 6], 'sadness': [1, 5, 0, 2, 3, 4, 6], 'anger': [6, 0, 5, 4, 3, 2], 'disgust': [4, 6, 0, 2, 3, 1, 5]}\n"
          ]
        }
      ],
      "source": [
        "gm_pca = GaussianMixture(n_components=7)\n",
        "gm_pca.fit(X)\n",
        "prediction_gm_pca = gm_pca.predict(X)\n",
        "printCluster(target, prediction_gm_pca)"
      ]
    },
    {
      "cell_type": "code",
      "execution_count": 214,
      "metadata": {},
      "outputs": [
        {
          "data": {
            "text/html": [
              "<div>\n",
              "<style scoped>\n",
              "    .dataframe tbody tr th:only-of-type {\n",
              "        vertical-align: middle;\n",
              "    }\n",
              "\n",
              "    .dataframe tbody tr th {\n",
              "        vertical-align: top;\n",
              "    }\n",
              "\n",
              "    .dataframe thead th {\n",
              "        text-align: right;\n",
              "    }\n",
              "</style>\n",
              "<table border=\"1\" class=\"dataframe\">\n",
              "  <thead>\n",
              "    <tr style=\"text-align: right;\">\n",
              "      <th></th>\n",
              "      <th>Silhouette</th>\n",
              "      <th>Homogeneidad</th>\n",
              "      <th>Rand</th>\n",
              "      <th>Adjust Rand</th>\n",
              "      <th>Adjust Mutual Information</th>\n",
              "    </tr>\n",
              "  </thead>\n",
              "  <tbody>\n",
              "    <tr>\n",
              "      <th>PCA</th>\n",
              "      <td>0.201557</td>\n",
              "      <td>0.12763</td>\n",
              "      <td>0.727754</td>\n",
              "      <td>0.088484</td>\n",
              "      <td>0.119623</td>\n",
              "    </tr>\n",
              "  </tbody>\n",
              "</table>\n",
              "</div>"
            ],
            "text/plain": [
              "     Silhouette  Homogeneidad      Rand  Adjust Rand  \\\n",
              "PCA    0.201557       0.12763  0.727754     0.088484   \n",
              "\n",
              "     Adjust Mutual Information  \n",
              "PCA                   0.119623  "
            ]
          },
          "execution_count": 214,
          "metadata": {},
          "output_type": "execute_result"
        }
      ],
      "source": [
        "df_scores_pca = get_score(labels_true, prediction_gm_pca, X)\n",
        "df_scores_pca"
      ]
    },
    {
      "cell_type": "code",
      "execution_count": 215,
      "metadata": {},
      "outputs": [
        {
          "name": "stdout",
          "output_type": "stream",
          "text": [
            "GMMClustering:  7\n"
          ]
        },
        {
          "name": "stderr",
          "output_type": "stream",
          "text": [
            "/opt/homebrew/lib/python3.11/site-packages/sklearn/cluster/_kmeans.py:870: FutureWarning: The default value of `n_init` will change from 10 to 'auto' in 1.4. Set the value of `n_init` explicitly to suppress the warning\n",
            "  warnings.warn(\n"
          ]
        },
        {
          "ename": "LinAlgError",
          "evalue": "When `allow_singular is False`, the input matrix must be symmetric positive definite.",
          "output_type": "error",
          "traceback": [
            "\u001b[0;31m---------------------------------------------------------------------------\u001b[0m",
            "\u001b[0;31mLinAlgError\u001b[0m                               Traceback (most recent call last)",
            "Cell \u001b[0;32mIn[215], line 2\u001b[0m\n\u001b[1;32m      1\u001b[0m gm_pca_model \u001b[39m=\u001b[39m GMMClustering(n_components\u001b[39m=\u001b[39m\u001b[39m7\u001b[39m)\n\u001b[0;32m----> 2\u001b[0m gm_pca_model\u001b[39m.\u001b[39;49mfit(X)\n\u001b[1;32m      3\u001b[0m prediction_gm_pca_model \u001b[39m=\u001b[39m gm_pca_model\u001b[39m.\u001b[39mpredict(X)\n\u001b[1;32m      4\u001b[0m printCluster(target, prediction_gm_pca_model)\n",
            "Cell \u001b[0;32mIn[212], line 50\u001b[0m, in \u001b[0;36mGMMClustering.fit\u001b[0;34m(self, X)\u001b[0m\n\u001b[1;32m     49\u001b[0m \u001b[39mdef\u001b[39;00m \u001b[39mfit\u001b[39m(\u001b[39mself\u001b[39m, X):\n\u001b[0;32m---> 50\u001b[0m     \u001b[39mself\u001b[39m\u001b[39m.\u001b[39mcoeff, \u001b[39mself\u001b[39m\u001b[39m.\u001b[39mmeans, \u001b[39mself\u001b[39m\u001b[39m.\u001b[39mcovarianzas \u001b[39m=\u001b[39m \u001b[39mself\u001b[39;49m\u001b[39m.\u001b[39;49mtrain_GMM(X, \u001b[39mself\u001b[39;49m\u001b[39m.\u001b[39;49mn_components)\n",
            "Cell \u001b[0;32mIn[212], line 45\u001b[0m, in \u001b[0;36mGMMClustering.train_GMM\u001b[0;34m(self, X, n_gaussians, iterations)\u001b[0m\n\u001b[1;32m     43\u001b[0m coeff,means,covarianzas \u001b[39m=\u001b[39m \u001b[39mself\u001b[39m\u001b[39m.\u001b[39mparameters(X,\u001b[39m3\u001b[39m)\n\u001b[1;32m     44\u001b[0m \u001b[39mfor\u001b[39;00m i \u001b[39min\u001b[39;00m \u001b[39mrange\u001b[39m(n_gaussians):\n\u001b[0;32m---> 45\u001b[0m     value \u001b[39m=\u001b[39m \u001b[39mself\u001b[39;49m\u001b[39m.\u001b[39;49mE(X,coeff,means,covarianzas)\n\u001b[1;32m     46\u001b[0m     coeff,means,covarianzas \u001b[39m=\u001b[39m \u001b[39mself\u001b[39m\u001b[39m.\u001b[39mM(X,value)\n\u001b[1;32m     47\u001b[0m \u001b[39mreturn\u001b[39;00m coeff,means,covarianzas\n",
            "Cell \u001b[0;32mIn[212], line 24\u001b[0m, in \u001b[0;36mGMMClustering.E\u001b[0;34m(self, X, mixing_coefficients, means, covarianzas)\u001b[0m\n\u001b[1;32m     22\u001b[0m log_responsabilidades \u001b[39m=\u001b[39m np\u001b[39m.\u001b[39mzeros((n_samples, n_gaussians))\n\u001b[1;32m     23\u001b[0m \u001b[39mfor\u001b[39;00m j \u001b[39min\u001b[39;00m \u001b[39mrange\u001b[39m(n_gaussians):\n\u001b[0;32m---> 24\u001b[0m     log_responsabilidades[:, j] \u001b[39m=\u001b[39m np\u001b[39m.\u001b[39mlog(mixing_coefficients[j]) \u001b[39m+\u001b[39m multivariate_normal\u001b[39m.\u001b[39;49mlogpdf(X, mean\u001b[39m=\u001b[39;49mmeans[j], cov\u001b[39m=\u001b[39;49mcovarianzas[j])\n\u001b[1;32m     25\u001b[0m log_responsabilidades \u001b[39m-\u001b[39m\u001b[39m=\u001b[39m log_responsabilidades\u001b[39m.\u001b[39mmax(axis\u001b[39m=\u001b[39m\u001b[39m1\u001b[39m, keepdims\u001b[39m=\u001b[39m\u001b[39mTrue\u001b[39;00m)\n\u001b[1;32m     26\u001b[0m responsabilidades \u001b[39m=\u001b[39m np\u001b[39m.\u001b[39mexp(log_responsabilidades)\n",
            "File \u001b[0;32m/opt/homebrew/lib/python3.11/site-packages/scipy/stats/_multivariate.py:552\u001b[0m, in \u001b[0;36mmultivariate_normal_gen.logpdf\u001b[0;34m(self, x, mean, cov, allow_singular)\u001b[0m\n\u001b[1;32m    533\u001b[0m \u001b[39mdef\u001b[39;00m \u001b[39mlogpdf\u001b[39m(\u001b[39mself\u001b[39m, x, mean\u001b[39m=\u001b[39m\u001b[39mNone\u001b[39;00m, cov\u001b[39m=\u001b[39m\u001b[39m1\u001b[39m, allow_singular\u001b[39m=\u001b[39m\u001b[39mFalse\u001b[39;00m):\n\u001b[1;32m    534\u001b[0m \u001b[39m    \u001b[39m\u001b[39m\"\"\"Log of the multivariate normal probability density function.\u001b[39;00m\n\u001b[1;32m    535\u001b[0m \n\u001b[1;32m    536\u001b[0m \u001b[39m    Parameters\u001b[39;00m\n\u001b[0;32m   (...)\u001b[0m\n\u001b[1;32m    550\u001b[0m \n\u001b[1;32m    551\u001b[0m \u001b[39m    \"\"\"\u001b[39;00m\n\u001b[0;32m--> 552\u001b[0m     params \u001b[39m=\u001b[39m \u001b[39mself\u001b[39;49m\u001b[39m.\u001b[39;49m_process_parameters(mean, cov, allow_singular)\n\u001b[1;32m    553\u001b[0m     dim, mean, cov_object \u001b[39m=\u001b[39m params\n\u001b[1;32m    554\u001b[0m     x \u001b[39m=\u001b[39m \u001b[39mself\u001b[39m\u001b[39m.\u001b[39m_process_quantiles(x, dim)\n",
            "File \u001b[0;32m/opt/homebrew/lib/python3.11/site-packages/scipy/stats/_multivariate.py:417\u001b[0m, in \u001b[0;36mmultivariate_normal_gen._process_parameters\u001b[0;34m(self, mean, cov, allow_singular)\u001b[0m\n\u001b[1;32m    410\u001b[0m dim, mean, cov \u001b[39m=\u001b[39m \u001b[39mself\u001b[39m\u001b[39m.\u001b[39m_process_parameters_psd(\u001b[39mNone\u001b[39;00m, mean, cov)\n\u001b[1;32m    411\u001b[0m \u001b[39m# After input validation, some methods then processed the arrays\u001b[39;00m\n\u001b[1;32m    412\u001b[0m \u001b[39m# with a `_PSD` object and used that to perform computation.\u001b[39;00m\n\u001b[1;32m    413\u001b[0m \u001b[39m# To avoid branching statements in each method depending on whether\u001b[39;00m\n\u001b[1;32m    414\u001b[0m \u001b[39m# `cov` is an array or `Covariance` object, we always process the\u001b[39;00m\n\u001b[1;32m    415\u001b[0m \u001b[39m# array with `_PSD`, and then use wrapper that satisfies the\u001b[39;00m\n\u001b[1;32m    416\u001b[0m \u001b[39m# `Covariance` interface, `CovViaPSD`.\u001b[39;00m\n\u001b[0;32m--> 417\u001b[0m psd \u001b[39m=\u001b[39m _PSD(cov, allow_singular\u001b[39m=\u001b[39;49mallow_singular)\n\u001b[1;32m    418\u001b[0m cov_object \u001b[39m=\u001b[39m _covariance\u001b[39m.\u001b[39mCovViaPSD(psd)\n\u001b[1;32m    419\u001b[0m \u001b[39mreturn\u001b[39;00m dim, mean, cov_object\n",
            "File \u001b[0;32m/opt/homebrew/lib/python3.11/site-packages/scipy/stats/_multivariate.py:172\u001b[0m, in \u001b[0;36m_PSD.__init__\u001b[0;34m(self, M, cond, rcond, lower, check_finite, allow_singular)\u001b[0m\n\u001b[1;32m    169\u001b[0m \u001b[39mif\u001b[39;00m \u001b[39mlen\u001b[39m(d) \u001b[39m<\u001b[39m \u001b[39mlen\u001b[39m(s) \u001b[39mand\u001b[39;00m \u001b[39mnot\u001b[39;00m allow_singular:\n\u001b[1;32m    170\u001b[0m     msg \u001b[39m=\u001b[39m (\u001b[39m\"\u001b[39m\u001b[39mWhen `allow_singular is False`, the input matrix must be \u001b[39m\u001b[39m\"\u001b[39m\n\u001b[1;32m    171\u001b[0m            \u001b[39m\"\u001b[39m\u001b[39msymmetric positive definite.\u001b[39m\u001b[39m\"\u001b[39m)\n\u001b[0;32m--> 172\u001b[0m     \u001b[39mraise\u001b[39;00m np\u001b[39m.\u001b[39mlinalg\u001b[39m.\u001b[39mLinAlgError(msg)\n\u001b[1;32m    173\u001b[0m s_pinv \u001b[39m=\u001b[39m _pinv_1d(s, eps)\n\u001b[1;32m    174\u001b[0m U \u001b[39m=\u001b[39m np\u001b[39m.\u001b[39mmultiply(u, np\u001b[39m.\u001b[39msqrt(s_pinv))\n",
            "\u001b[0;31mLinAlgError\u001b[0m: When `allow_singular is False`, the input matrix must be symmetric positive definite."
          ]
        }
      ],
      "source": [
        "gm_pca_model = GMMClustering(n_components=7)\n",
        "gm_pca_model.fit(X)\n",
        "prediction_gm_pca_model = gm_pca_model.predict(X)\n",
        "printCluster(target, prediction_gm_pca_model)"
      ]
    },
    {
      "cell_type": "code",
      "execution_count": 217,
      "metadata": {},
      "outputs": [
        {
          "data": {
            "text/plain": [
              "<matplotlib.legend.Legend at 0x2946307d0>"
            ]
          },
          "execution_count": 217,
          "metadata": {},
          "output_type": "execute_result"
        },
        {
          "data": {
            "image/png": "[encoded data removed]",
            "text/plain": [
              "<Figure size 640x480 with 1 Axes>"
            ]
          },
          "metadata": {},
          "output_type": "display_data"
        }
      ],
      "source": [
        "probs = gm_pca.predict_proba(X).round(3)\n",
        "labels = gm_pca.fit(X).predict(X)\n",
        "colors = ListedColormap(['r','b','g','tab:orange','tab:purple','tab:brown','tab:pink'])\n",
        "size = 50 * probs.max(1) ** 2  # square emphasizes differences\n",
        "types = [\"happy\",\"contempt\",\"fear\",\"surprise\",\"sadness\",\"anger\",\"disgust\"]\n",
        "scatter = plt.scatter(X[:, 0], X[:, 1], c=labels, s=size,marker=\"x\",cmap=colors)\n",
        "plt.legend(handles=scatter.legend_elements()[0], labels=types,loc='upper right')\n"
      ]
    },
    {
      "cell_type": "code",
      "execution_count": 216,
      "metadata": {},
      "outputs": [
        {
          "name": "stdout",
          "output_type": "stream",
          "text": [
            "KMeansClustering:  8\n",
            "GMMClustering:  8\n"
          ]
        }
      ],
      "source": [
        "kmeans = KMeansClustering(X,n_clusters=8)\n",
        "dbscan = DBSCANClustering(eps=0.5, min_samples=5)\n",
        "gmm = GMMClustering(n_components=8)\n"
      ]
    },
    {
      "cell_type": "code",
      "execution_count": null,
      "metadata": {},
      "outputs": [
        {
          "data": {
            "image/png": "[encoded data removed]",
            "text/plain": [
              "<Figure size 640x480 with 1 Axes>"
            ]
          },
          "metadata": {},
          "output_type": "display_data"
        }
      ],
      "source": [
        "Sum_bic = []\n",
        "Sum_aic = []\n",
        "\n",
        "K = range(1,10)\n",
        "for k in K:\n",
        "    gmm = GaussianMixture(n_components=k)\n",
        "    gmm = gmm.fit(X)\n",
        "    Sum_bic.append(gmm.bic(X))\n",
        "    Sum_aic.append(gmm.aic(X))\n",
        "    x1 = K\n",
        "y1 = Sum_aic\n",
        "plt.plot(x1, y1, label = \"AIC\")\n",
        "x2 = K\n",
        "y2 = Sum_bic\n",
        "plt.plot(x2, y2, label = \"BIC\")\n",
        "\n",
        "plt.title(\"AIC and BIC for different numbers of k\", fontsize=16, fontweight='bold')\n",
        "plt.xlabel(\"k\")\n",
        "plt.ylabel(\"Information Criterion\")\n",
        "plt.legend(loc='upper right')\n",
        "plt.show()"
      ]
    },
    {
      "cell_type": "code",
      "execution_count": null,
      "metadata": {},
      "outputs": [],
      "source": []
    }
  ],
  "metadata": {
    "colab": {
      "provenance": [],
      "toc_visible": true
    },
    "kernelspec": {
      "display_name": "Python 3",
      "name": "python3"
    },
    "language_info": {
      "codemirror_mode": {
        "name": "ipython",
        "version": 3
      },
      "file_extension": ".py",
      "mimetype": "text/x-python",
      "name": "python",
      "nbconvert_exporter": "python",
      "pygments_lexer": "ipython3",
      "version": "3.11.3"
    }
  },
  "nbformat": 4,
  "nbformat_minor": 0
}
